{
  "nbformat": 4,
  "nbformat_minor": 0,
  "metadata": {
    "colab": {
      "name": "2576183S RecSys 2021M - Ex 1 - TEMPLATE",
      "provenance": [],
      "collapsed_sections": []
    },
    "kernelspec": {
      "name": "python3",
      "display_name": "Python 3"
    }
  },
  "cells": [
    {
      "cell_type": "markdown",
      "metadata": {
        "id": "zMRJzJXdfkNv"
      },
      "source": [
        "# Exercise 1\n",
        "\n",
        "The **aims** of this exercise are:\n",
        "\n",
        "*   Allow you practice slicing and analysing data with Pandas\n",
        "*   Introduce you to the MovieLens dataset\n",
        "*   Demonstrate use of Pandas to perform non-personalised and personalised recommendations\n",
        "\n",
        "This exercise is worth 5% of the contribution to your final mark for RecSys, and is expected to take approximately 5-7 hours of your time. NB: This is an individual exercise.\n",
        "\n"
      ]
    },
    {
      "cell_type": "code",
      "metadata": {
        "id": "D0FCwi-bIytL"
      },
      "source": [
        "#Standard setup\n",
        "import pandas as pd\n",
        "import numpy as np"
      ],
      "execution_count": null,
      "outputs": []
    },
    {
      "cell_type": "markdown",
      "metadata": {
        "id": "uTkyfA-p51Oi"
      },
      "source": [
        "#Part A. MovieLens Exploration using Pandas\n",
        "\n",
        "This exercise will use the [Movielens](https://grouplens.org/datasets/movielens/) data. There is a large dataset with 25M ratings, however we will focus on the smallest one, that has only 100k ratings.  \n",
        "\n",
        "**Hint** : If you are using Colab, it might be good if you open these files, either on your own machine, or using Colab's inbuilt CSV viewer (via folder icon on the left hand sidebar). The CSV files are small enough to be searched using your favourite editor."
      ]
    },
    {
      "cell_type": "code",
      "metadata": {
        "id": "Hq-oSeM344Ca",
        "colab": {
          "base_uri": "https://localhost:8080/"
        },
        "outputId": "67415583-7786-427f-82b5-24750a1b95d4"
      },
      "source": [
        "!curl -o ml-latest-small.zip http://files.grouplens.org/datasets/movielens/ml-latest-small.zip\n",
        "# backup location\n",
        "#!curl -o ml-latest-small.zip http://www.dcs.gla.ac.uk/~craigm/recsysHM/ml-latest-small.zip\n",
        "\n",
        "!unzip -o ml-latest-small.zip"
      ],
      "execution_count": null,
      "outputs": [
        {
          "output_type": "stream",
          "text": [
            "  % Total    % Received % Xferd  Average Speed   Time    Time     Time  Current\n",
            "                                 Dload  Upload   Total   Spent    Left  Speed\n",
            "100  955k  100  955k    0     0  4402k      0 --:--:-- --:--:-- --:--:-- 4402k\n",
            "Archive:  ml-latest-small.zip\n",
            "  inflating: ml-latest-small/links.csv  \n",
            "  inflating: ml-latest-small/tags.csv  \n",
            "  inflating: ml-latest-small/ratings.csv  \n",
            "  inflating: ml-latest-small/README.txt  \n",
            "  inflating: ml-latest-small/movies.csv  \n"
          ],
          "name": "stdout"
        }
      ]
    },
    {
      "cell_type": "markdown",
      "metadata": {
        "id": "idTYNpH-6Pr3"
      },
      "source": [
        "Let's look into the files using Pandas:"
      ]
    },
    {
      "cell_type": "code",
      "metadata": {
        "id": "-PWv4cz-4_7B"
      },
      "source": [
        "ratings_df = pd.read_csv(\"ml-latest-small/ratings.csv\")\n",
        "movies_df = pd.read_csv(\"ml-latest-small/movies.csv\")\n",
        "\n",
        "# we're going to treat userId as strings, and similarly as movies. This will prevent confusion later on.\n",
        "ratings_df['userId'] = \"u\" + ratings_df['userId'].astype(str)\n",
        "ratings_df['movieId'] = \"m\" + ratings_df['movieId'].astype(str)\n",
        "movies_df['movieId'] = \"m\" +  movies_df['movieId'].astype(str)"
      ],
      "execution_count": null,
      "outputs": []
    },
    {
      "cell_type": "code",
      "metadata": {
        "id": "0R-tZogo5Uhn",
        "colab": {
          "base_uri": "https://localhost:8080/",
          "height": 419
        },
        "outputId": "a26e3822-f386-4d56-d3f0-fa0cd90c7cad"
      },
      "source": [
        "ratings_df"
      ],
      "execution_count": null,
      "outputs": [
        {
          "output_type": "execute_result",
          "data": {
            "text/html": [
              "<div>\n",
              "<style scoped>\n",
              "    .dataframe tbody tr th:only-of-type {\n",
              "        vertical-align: middle;\n",
              "    }\n",
              "\n",
              "    .dataframe tbody tr th {\n",
              "        vertical-align: top;\n",
              "    }\n",
              "\n",
              "    .dataframe thead th {\n",
              "        text-align: right;\n",
              "    }\n",
              "</style>\n",
              "<table border=\"1\" class=\"dataframe\">\n",
              "  <thead>\n",
              "    <tr style=\"text-align: right;\">\n",
              "      <th></th>\n",
              "      <th>userId</th>\n",
              "      <th>movieId</th>\n",
              "      <th>rating</th>\n",
              "      <th>timestamp</th>\n",
              "    </tr>\n",
              "  </thead>\n",
              "  <tbody>\n",
              "    <tr>\n",
              "      <th>0</th>\n",
              "      <td>u1</td>\n",
              "      <td>m1</td>\n",
              "      <td>4.0</td>\n",
              "      <td>964982703</td>\n",
              "    </tr>\n",
              "    <tr>\n",
              "      <th>1</th>\n",
              "      <td>u1</td>\n",
              "      <td>m3</td>\n",
              "      <td>4.0</td>\n",
              "      <td>964981247</td>\n",
              "    </tr>\n",
              "    <tr>\n",
              "      <th>2</th>\n",
              "      <td>u1</td>\n",
              "      <td>m6</td>\n",
              "      <td>4.0</td>\n",
              "      <td>964982224</td>\n",
              "    </tr>\n",
              "    <tr>\n",
              "      <th>3</th>\n",
              "      <td>u1</td>\n",
              "      <td>m47</td>\n",
              "      <td>5.0</td>\n",
              "      <td>964983815</td>\n",
              "    </tr>\n",
              "    <tr>\n",
              "      <th>4</th>\n",
              "      <td>u1</td>\n",
              "      <td>m50</td>\n",
              "      <td>5.0</td>\n",
              "      <td>964982931</td>\n",
              "    </tr>\n",
              "    <tr>\n",
              "      <th>...</th>\n",
              "      <td>...</td>\n",
              "      <td>...</td>\n",
              "      <td>...</td>\n",
              "      <td>...</td>\n",
              "    </tr>\n",
              "    <tr>\n",
              "      <th>100831</th>\n",
              "      <td>u610</td>\n",
              "      <td>m166534</td>\n",
              "      <td>4.0</td>\n",
              "      <td>1493848402</td>\n",
              "    </tr>\n",
              "    <tr>\n",
              "      <th>100832</th>\n",
              "      <td>u610</td>\n",
              "      <td>m168248</td>\n",
              "      <td>5.0</td>\n",
              "      <td>1493850091</td>\n",
              "    </tr>\n",
              "    <tr>\n",
              "      <th>100833</th>\n",
              "      <td>u610</td>\n",
              "      <td>m168250</td>\n",
              "      <td>5.0</td>\n",
              "      <td>1494273047</td>\n",
              "    </tr>\n",
              "    <tr>\n",
              "      <th>100834</th>\n",
              "      <td>u610</td>\n",
              "      <td>m168252</td>\n",
              "      <td>5.0</td>\n",
              "      <td>1493846352</td>\n",
              "    </tr>\n",
              "    <tr>\n",
              "      <th>100835</th>\n",
              "      <td>u610</td>\n",
              "      <td>m170875</td>\n",
              "      <td>3.0</td>\n",
              "      <td>1493846415</td>\n",
              "    </tr>\n",
              "  </tbody>\n",
              "</table>\n",
              "<p>100836 rows × 4 columns</p>\n",
              "</div>"
            ],
            "text/plain": [
              "       userId  movieId  rating   timestamp\n",
              "0          u1       m1     4.0   964982703\n",
              "1          u1       m3     4.0   964981247\n",
              "2          u1       m6     4.0   964982224\n",
              "3          u1      m47     5.0   964983815\n",
              "4          u1      m50     5.0   964982931\n",
              "...       ...      ...     ...         ...\n",
              "100831   u610  m166534     4.0  1493848402\n",
              "100832   u610  m168248     5.0  1493850091\n",
              "100833   u610  m168250     5.0  1494273047\n",
              "100834   u610  m168252     5.0  1493846352\n",
              "100835   u610  m170875     3.0  1493846415\n",
              "\n",
              "[100836 rows x 4 columns]"
            ]
          },
          "metadata": {
            "tags": []
          },
          "execution_count": 4
        }
      ]
    },
    {
      "cell_type": "markdown",
      "metadata": {
        "id": "MDR2Wx1qvddn"
      },
      "source": [
        "`ratings_df` is a [Pandas DataFrame](https://pandas.pydata.org/pandas-docs/stable/reference/api/pandas.DataFrame.html). Viewing it, we can see users (identified by userId) are rating various movies (cf. movieId).\n",
        "\n",
        "We can slice and dice the dataframes, e.g.\n",
        "\n",
        " * project a single column (this returns a [Pandas Series](https://pandas.pydata.org/pandas-docs/stable/reference/api/pandas.Series.html))."
      ]
    },
    {
      "cell_type": "code",
      "metadata": {
        "id": "55fuLJUXvl7z",
        "colab": {
          "base_uri": "https://localhost:8080/"
        },
        "outputId": "e480cc6d-edb8-453d-feb9-e73d6a0e94ae"
      },
      "source": [
        "movies_df[\"title\"]"
      ],
      "execution_count": null,
      "outputs": [
        {
          "output_type": "execute_result",
          "data": {
            "text/plain": [
              "0                                Toy Story (1995)\n",
              "1                                  Jumanji (1995)\n",
              "2                         Grumpier Old Men (1995)\n",
              "3                        Waiting to Exhale (1995)\n",
              "4              Father of the Bride Part II (1995)\n",
              "                          ...                    \n",
              "9737    Black Butler: Book of the Atlantic (2017)\n",
              "9738                 No Game No Life: Zero (2017)\n",
              "9739                                 Flint (2017)\n",
              "9740          Bungo Stray Dogs: Dead Apple (2018)\n",
              "9741          Andrew Dice Clay: Dice Rules (1991)\n",
              "Name: title, Length: 9742, dtype: object"
            ]
          },
          "metadata": {
            "tags": []
          },
          "execution_count": 5
        }
      ]
    },
    {
      "cell_type": "markdown",
      "metadata": {
        "id": "fbFbiqKewD5p"
      },
      "source": [
        " - project multiple columns (this returns a view of the original DataFrame, as another DataFrame object)."
      ]
    },
    {
      "cell_type": "code",
      "metadata": {
        "id": "Jcve9Xpgv_E0",
        "colab": {
          "base_uri": "https://localhost:8080/",
          "height": 419
        },
        "outputId": "14d2336e-225c-47f6-e25c-06029e157a4f"
      },
      "source": [
        "movies_df[[\"movieId\", \"title\"]]"
      ],
      "execution_count": null,
      "outputs": [
        {
          "output_type": "execute_result",
          "data": {
            "text/html": [
              "<div>\n",
              "<style scoped>\n",
              "    .dataframe tbody tr th:only-of-type {\n",
              "        vertical-align: middle;\n",
              "    }\n",
              "\n",
              "    .dataframe tbody tr th {\n",
              "        vertical-align: top;\n",
              "    }\n",
              "\n",
              "    .dataframe thead th {\n",
              "        text-align: right;\n",
              "    }\n",
              "</style>\n",
              "<table border=\"1\" class=\"dataframe\">\n",
              "  <thead>\n",
              "    <tr style=\"text-align: right;\">\n",
              "      <th></th>\n",
              "      <th>movieId</th>\n",
              "      <th>title</th>\n",
              "    </tr>\n",
              "  </thead>\n",
              "  <tbody>\n",
              "    <tr>\n",
              "      <th>0</th>\n",
              "      <td>m1</td>\n",
              "      <td>Toy Story (1995)</td>\n",
              "    </tr>\n",
              "    <tr>\n",
              "      <th>1</th>\n",
              "      <td>m2</td>\n",
              "      <td>Jumanji (1995)</td>\n",
              "    </tr>\n",
              "    <tr>\n",
              "      <th>2</th>\n",
              "      <td>m3</td>\n",
              "      <td>Grumpier Old Men (1995)</td>\n",
              "    </tr>\n",
              "    <tr>\n",
              "      <th>3</th>\n",
              "      <td>m4</td>\n",
              "      <td>Waiting to Exhale (1995)</td>\n",
              "    </tr>\n",
              "    <tr>\n",
              "      <th>4</th>\n",
              "      <td>m5</td>\n",
              "      <td>Father of the Bride Part II (1995)</td>\n",
              "    </tr>\n",
              "    <tr>\n",
              "      <th>...</th>\n",
              "      <td>...</td>\n",
              "      <td>...</td>\n",
              "    </tr>\n",
              "    <tr>\n",
              "      <th>9737</th>\n",
              "      <td>m193581</td>\n",
              "      <td>Black Butler: Book of the Atlantic (2017)</td>\n",
              "    </tr>\n",
              "    <tr>\n",
              "      <th>9738</th>\n",
              "      <td>m193583</td>\n",
              "      <td>No Game No Life: Zero (2017)</td>\n",
              "    </tr>\n",
              "    <tr>\n",
              "      <th>9739</th>\n",
              "      <td>m193585</td>\n",
              "      <td>Flint (2017)</td>\n",
              "    </tr>\n",
              "    <tr>\n",
              "      <th>9740</th>\n",
              "      <td>m193587</td>\n",
              "      <td>Bungo Stray Dogs: Dead Apple (2018)</td>\n",
              "    </tr>\n",
              "    <tr>\n",
              "      <th>9741</th>\n",
              "      <td>m193609</td>\n",
              "      <td>Andrew Dice Clay: Dice Rules (1991)</td>\n",
              "    </tr>\n",
              "  </tbody>\n",
              "</table>\n",
              "<p>9742 rows × 2 columns</p>\n",
              "</div>"
            ],
            "text/plain": [
              "      movieId                                      title\n",
              "0          m1                           Toy Story (1995)\n",
              "1          m2                             Jumanji (1995)\n",
              "2          m3                    Grumpier Old Men (1995)\n",
              "3          m4                   Waiting to Exhale (1995)\n",
              "4          m5         Father of the Bride Part II (1995)\n",
              "...       ...                                        ...\n",
              "9737  m193581  Black Butler: Book of the Atlantic (2017)\n",
              "9738  m193583               No Game No Life: Zero (2017)\n",
              "9739  m193585                               Flint (2017)\n",
              "9740  m193587        Bungo Stray Dogs: Dead Apple (2018)\n",
              "9741  m193609        Andrew Dice Clay: Dice Rules (1991)\n",
              "\n",
              "[9742 rows x 2 columns]"
            ]
          },
          "metadata": {
            "tags": []
          },
          "execution_count": 6
        }
      ]
    },
    {
      "cell_type": "markdown",
      "metadata": {
        "id": "sm0zU1rywGzv"
      },
      "source": [
        " - Select rows based on one or more conditions"
      ]
    },
    {
      "cell_type": "code",
      "metadata": {
        "id": "0jnBvzK1wPE5",
        "colab": {
          "base_uri": "https://localhost:8080/",
          "height": 576
        },
        "outputId": "e4541a38-4b03-4ffb-ef1b-04bde7e32733"
      },
      "source": [
        "ratings_df[(ratings_df[\"userId\"] == 'u500') & (ratings_df[\"rating\"] == 1)]"
      ],
      "execution_count": null,
      "outputs": [
        {
          "output_type": "execute_result",
          "data": {
            "text/html": [
              "<div>\n",
              "<style scoped>\n",
              "    .dataframe tbody tr th:only-of-type {\n",
              "        vertical-align: middle;\n",
              "    }\n",
              "\n",
              "    .dataframe tbody tr th {\n",
              "        vertical-align: top;\n",
              "    }\n",
              "\n",
              "    .dataframe thead th {\n",
              "        text-align: right;\n",
              "    }\n",
              "</style>\n",
              "<table border=\"1\" class=\"dataframe\">\n",
              "  <thead>\n",
              "    <tr style=\"text-align: right;\">\n",
              "      <th></th>\n",
              "      <th>userId</th>\n",
              "      <th>movieId</th>\n",
              "      <th>rating</th>\n",
              "      <th>timestamp</th>\n",
              "    </tr>\n",
              "  </thead>\n",
              "  <tbody>\n",
              "    <tr>\n",
              "      <th>79908</th>\n",
              "      <td>u500</td>\n",
              "      <td>m11</td>\n",
              "      <td>1.0</td>\n",
              "      <td>1005528017</td>\n",
              "    </tr>\n",
              "    <tr>\n",
              "      <th>79909</th>\n",
              "      <td>u500</td>\n",
              "      <td>m39</td>\n",
              "      <td>1.0</td>\n",
              "      <td>1005527926</td>\n",
              "    </tr>\n",
              "    <tr>\n",
              "      <th>79910</th>\n",
              "      <td>u500</td>\n",
              "      <td>m101</td>\n",
              "      <td>1.0</td>\n",
              "      <td>1005527980</td>\n",
              "    </tr>\n",
              "    <tr>\n",
              "      <th>79915</th>\n",
              "      <td>u500</td>\n",
              "      <td>m231</td>\n",
              "      <td>1.0</td>\n",
              "      <td>1005528039</td>\n",
              "    </tr>\n",
              "    <tr>\n",
              "      <th>79923</th>\n",
              "      <td>u500</td>\n",
              "      <td>m449</td>\n",
              "      <td>1.0</td>\n",
              "      <td>1005528017</td>\n",
              "    </tr>\n",
              "    <tr>\n",
              "      <th>79924</th>\n",
              "      <td>u500</td>\n",
              "      <td>m471</td>\n",
              "      <td>1.0</td>\n",
              "      <td>1005528017</td>\n",
              "    </tr>\n",
              "    <tr>\n",
              "      <th>79926</th>\n",
              "      <td>u500</td>\n",
              "      <td>m539</td>\n",
              "      <td>1.0</td>\n",
              "      <td>1005527980</td>\n",
              "    </tr>\n",
              "    <tr>\n",
              "      <th>79931</th>\n",
              "      <td>u500</td>\n",
              "      <td>m597</td>\n",
              "      <td>1.0</td>\n",
              "      <td>1005527980</td>\n",
              "    </tr>\n",
              "    <tr>\n",
              "      <th>79934</th>\n",
              "      <td>u500</td>\n",
              "      <td>m745</td>\n",
              "      <td>1.0</td>\n",
              "      <td>1005528205</td>\n",
              "    </tr>\n",
              "    <tr>\n",
              "      <th>79939</th>\n",
              "      <td>u500</td>\n",
              "      <td>m1188</td>\n",
              "      <td>1.0</td>\n",
              "      <td>1005528065</td>\n",
              "    </tr>\n",
              "    <tr>\n",
              "      <th>79951</th>\n",
              "      <td>u500</td>\n",
              "      <td>m1824</td>\n",
              "      <td>1.0</td>\n",
              "      <td>1005527926</td>\n",
              "    </tr>\n",
              "    <tr>\n",
              "      <th>79955</th>\n",
              "      <td>u500</td>\n",
              "      <td>m1914</td>\n",
              "      <td>1.0</td>\n",
              "      <td>1005527980</td>\n",
              "    </tr>\n",
              "    <tr>\n",
              "      <th>79958</th>\n",
              "      <td>u500</td>\n",
              "      <td>m1993</td>\n",
              "      <td>1.0</td>\n",
              "      <td>1005527364</td>\n",
              "    </tr>\n",
              "    <tr>\n",
              "      <th>79971</th>\n",
              "      <td>u500</td>\n",
              "      <td>m2671</td>\n",
              "      <td>1.0</td>\n",
              "      <td>1005528078</td>\n",
              "    </tr>\n",
              "    <tr>\n",
              "      <th>79980</th>\n",
              "      <td>u500</td>\n",
              "      <td>m3083</td>\n",
              "      <td>1.0</td>\n",
              "      <td>1005528017</td>\n",
              "    </tr>\n",
              "    <tr>\n",
              "      <th>79986</th>\n",
              "      <td>u500</td>\n",
              "      <td>m3466</td>\n",
              "      <td>1.0</td>\n",
              "      <td>1005527926</td>\n",
              "    </tr>\n",
              "    <tr>\n",
              "      <th>79992</th>\n",
              "      <td>u500</td>\n",
              "      <td>m4873</td>\n",
              "      <td>1.0</td>\n",
              "      <td>1005528205</td>\n",
              "    </tr>\n",
              "  </tbody>\n",
              "</table>\n",
              "</div>"
            ],
            "text/plain": [
              "      userId movieId  rating   timestamp\n",
              "79908   u500     m11     1.0  1005528017\n",
              "79909   u500     m39     1.0  1005527926\n",
              "79910   u500    m101     1.0  1005527980\n",
              "79915   u500    m231     1.0  1005528039\n",
              "79923   u500    m449     1.0  1005528017\n",
              "79924   u500    m471     1.0  1005528017\n",
              "79926   u500    m539     1.0  1005527980\n",
              "79931   u500    m597     1.0  1005527980\n",
              "79934   u500    m745     1.0  1005528205\n",
              "79939   u500   m1188     1.0  1005528065\n",
              "79951   u500   m1824     1.0  1005527926\n",
              "79955   u500   m1914     1.0  1005527980\n",
              "79958   u500   m1993     1.0  1005527364\n",
              "79971   u500   m2671     1.0  1005528078\n",
              "79980   u500   m3083     1.0  1005528017\n",
              "79986   u500   m3466     1.0  1005527926\n",
              "79992   u500   m4873     1.0  1005528205"
            ]
          },
          "metadata": {
            "tags": []
          },
          "execution_count": 7
        }
      ]
    },
    {
      "cell_type": "code",
      "metadata": {
        "id": "7XoS6gz2-xNl",
        "colab": {
          "base_uri": "https://localhost:8080/"
        },
        "outputId": "07c49507-88f9-4a45-caef-e144e939ac2a"
      },
      "source": [
        "#printing columns of movies dataframe\n",
        "movies_df.columns"
      ],
      "execution_count": null,
      "outputs": [
        {
          "output_type": "execute_result",
          "data": {
            "text/plain": [
              "Index(['movieId', 'title', 'genres'], dtype='object')"
            ]
          },
          "metadata": {
            "tags": []
          },
          "execution_count": 8
        }
      ]
    },
    {
      "cell_type": "code",
      "metadata": {
        "id": "FOiwrtvM-1Mh",
        "colab": {
          "base_uri": "https://localhost:8080/"
        },
        "outputId": "b210ba77-d4eb-4cce-f6a1-6c57475d2667"
      },
      "source": [
        "#printing columns of ratings dataframe\n",
        "ratings_df.columns"
      ],
      "execution_count": null,
      "outputs": [
        {
          "output_type": "execute_result",
          "data": {
            "text/plain": [
              "Index(['userId', 'movieId', 'rating', 'timestamp'], dtype='object')"
            ]
          },
          "metadata": {
            "tags": []
          },
          "execution_count": 9
        }
      ]
    },
    {
      "cell_type": "markdown",
      "metadata": {
        "id": "P8LI-cDv6cqI"
      },
      "source": [
        "\n",
        "\n",
        "Lets practice a bit more with Pandas. You can also refer to the [Pandas Dataframe API documentation.](https://pandas.pydata.org/pandas-docs/stable/reference/api/pandas.DataFrame.html)\n",
        "\n",
        "Write code to answer the following questions:\n",
        "\n",
        "## Task 1. How many users are there in this dataset?\n"
      ]
    },
    {
      "cell_type": "code",
      "metadata": {
        "id": "5uJ8vWIYyJed",
        "colab": {
          "base_uri": "https://localhost:8080/"
        },
        "outputId": "fcff2e1c-8b70-46da-ba3d-207d23ca2c17"
      },
      "source": [
        "# add your solution here\n",
        "\n",
        "#Counting the unique userIds will give number of users in dataset\n",
        "\n",
        "user_count = ratings_df['userId'].nunique()\n",
        "print(\"No. of users in Dataset : \", user_count)"
      ],
      "execution_count": null,
      "outputs": [
        {
          "output_type": "stream",
          "text": [
            "No. of users in Dataset :  610\n"
          ],
          "name": "stdout"
        }
      ]
    },
    {
      "cell_type": "markdown",
      "metadata": {
        "id": "9RgRiMEiJBzJ"
      },
      "source": [
        "## Task 2. What is the average rating of *each user*?\n",
        "\n",
        "The output should be a Pandas Series containing an average rating for each of the users.\n",
        "\n",
        "Hint: Use a [groupby()](https://pandas.pydata.org/pandas-docs/stable/reference/api/pandas.DataFrame.groupby.html) on the ratings_df dataframe. [Aggregation](https://pandas.pydata.org/pandas-docs/stable/user_guide/groupby.html#aggregation) will also be useful.\n"
      ]
    },
    {
      "cell_type": "code",
      "metadata": {
        "id": "nYnqfDmbu99T"
      },
      "source": [
        "#grouping the ratings_df dataframe  on userId\n",
        "grouped_userId = ratings_df.groupby(['userId'])"
      ],
      "execution_count": null,
      "outputs": []
    },
    {
      "cell_type": "code",
      "metadata": {
        "id": "i-qEgTiEOg6Z",
        "colab": {
          "base_uri": "https://localhost:8080/",
          "height": 419
        },
        "outputId": "8c389291-57a7-4b68-8b86-0528a773a954"
      },
      "source": [
        "# add your solutions here\n",
        "\n",
        "#averaging each user rating and storing in 'average user rating' column\n",
        "each_user_average_rating = grouped_userId['rating'].agg([np.mean]).reset_index().rename(columns={\"userId\" : \"userId\",\"mean\" : \"average user rating\"})\n",
        "each_user_average_rating"
      ],
      "execution_count": null,
      "outputs": [
        {
          "output_type": "execute_result",
          "data": {
            "text/html": [
              "<div>\n",
              "<style scoped>\n",
              "    .dataframe tbody tr th:only-of-type {\n",
              "        vertical-align: middle;\n",
              "    }\n",
              "\n",
              "    .dataframe tbody tr th {\n",
              "        vertical-align: top;\n",
              "    }\n",
              "\n",
              "    .dataframe thead th {\n",
              "        text-align: right;\n",
              "    }\n",
              "</style>\n",
              "<table border=\"1\" class=\"dataframe\">\n",
              "  <thead>\n",
              "    <tr style=\"text-align: right;\">\n",
              "      <th></th>\n",
              "      <th>userId</th>\n",
              "      <th>average user rating</th>\n",
              "    </tr>\n",
              "  </thead>\n",
              "  <tbody>\n",
              "    <tr>\n",
              "      <th>0</th>\n",
              "      <td>u1</td>\n",
              "      <td>4.366379</td>\n",
              "    </tr>\n",
              "    <tr>\n",
              "      <th>1</th>\n",
              "      <td>u10</td>\n",
              "      <td>3.278571</td>\n",
              "    </tr>\n",
              "    <tr>\n",
              "      <th>2</th>\n",
              "      <td>u100</td>\n",
              "      <td>3.945946</td>\n",
              "    </tr>\n",
              "    <tr>\n",
              "      <th>3</th>\n",
              "      <td>u101</td>\n",
              "      <td>3.557377</td>\n",
              "    </tr>\n",
              "    <tr>\n",
              "      <th>4</th>\n",
              "      <td>u102</td>\n",
              "      <td>3.357143</td>\n",
              "    </tr>\n",
              "    <tr>\n",
              "      <th>...</th>\n",
              "      <td>...</td>\n",
              "      <td>...</td>\n",
              "    </tr>\n",
              "    <tr>\n",
              "      <th>605</th>\n",
              "      <td>u95</td>\n",
              "      <td>4.062500</td>\n",
              "    </tr>\n",
              "    <tr>\n",
              "      <th>606</th>\n",
              "      <td>u96</td>\n",
              "      <td>3.884615</td>\n",
              "    </tr>\n",
              "    <tr>\n",
              "      <th>607</th>\n",
              "      <td>u97</td>\n",
              "      <td>4.194444</td>\n",
              "    </tr>\n",
              "    <tr>\n",
              "      <th>608</th>\n",
              "      <td>u98</td>\n",
              "      <td>3.913043</td>\n",
              "    </tr>\n",
              "    <tr>\n",
              "      <th>609</th>\n",
              "      <td>u99</td>\n",
              "      <td>3.867925</td>\n",
              "    </tr>\n",
              "  </tbody>\n",
              "</table>\n",
              "<p>610 rows × 2 columns</p>\n",
              "</div>"
            ],
            "text/plain": [
              "    userId  average user rating\n",
              "0       u1             4.366379\n",
              "1      u10             3.278571\n",
              "2     u100             3.945946\n",
              "3     u101             3.557377\n",
              "4     u102             3.357143\n",
              "..     ...                  ...\n",
              "605    u95             4.062500\n",
              "606    u96             3.884615\n",
              "607    u97             4.194444\n",
              "608    u98             3.913043\n",
              "609    u99             3.867925\n",
              "\n",
              "[610 rows x 2 columns]"
            ]
          },
          "metadata": {
            "tags": []
          },
          "execution_count": 12
        }
      ]
    },
    {
      "cell_type": "code",
      "metadata": {
        "colab": {
          "base_uri": "https://localhost:8080/"
        },
        "id": "03xiSLQn6Ftu",
        "outputId": "2d7b073a-bf99-46e7-a4f1-6bb31ffa70ad"
      },
      "source": [
        "print(round(each_user_average_rating[each_user_average_rating[\"userId\"]=='u10']['average user rating'],2))\n",
        "print(round(each_user_average_rating[each_user_average_rating[\"userId\"]=='u200']['average user rating'],2))"
      ],
      "execution_count": null,
      "outputs": [
        {
          "output_type": "stream",
          "text": [
            "1    3.28\n",
            "Name: average user rating, dtype: float64\n",
            "113    3.81\n",
            "Name: average user rating, dtype: float64\n"
          ],
          "name": "stdout"
        }
      ]
    },
    {
      "cell_type": "markdown",
      "metadata": {
        "id": "0p0HKlOBJA21"
      },
      "source": [
        "## Task 3. What is the average number of ratings per-user? \n",
        "\n",
        "In contrast to Task 2, the solution is a single number.\n",
        "\n",
        "Many solutions will involve [GroupBy.count()](https://pandas.pydata.org/pandas-docs/stable/user_guide/groupby.html#aggregation)."
      ]
    },
    {
      "cell_type": "code",
      "metadata": {
        "id": "1dkaoscfyKXx",
        "colab": {
          "base_uri": "https://localhost:8080/"
        },
        "outputId": "627b6e31-bd91-4e62-89ff-fe344eb15cb6"
      },
      "source": [
        "# add your solution here\n",
        "\n",
        "#Counting each user's rating and storing in 'number of ratings' column\n",
        "each_user_rating_count = grouped_userId['rating'].count().reset_index().rename(columns={\"userId\" : \"userId\", \"rating\" : \"Number of ratings\"})\n",
        "\n",
        "#calculating average from each user's number of rating\n",
        "average_number_ratings_user = each_user_rating_count['Number of ratings'].mean()\n",
        "print(\"Average number of ratings per-user : \", round(average_number_ratings_user,2))"
      ],
      "execution_count": null,
      "outputs": [
        {
          "output_type": "stream",
          "text": [
            "Average number of ratings per-user :  165.3\n"
          ],
          "name": "stdout"
        }
      ]
    },
    {
      "cell_type": "markdown",
      "metadata": {
        "id": "gH2uqwgwNWu0"
      },
      "source": [
        "## Analysing users's preferences."
      ]
    },
    {
      "cell_type": "markdown",
      "metadata": {
        "id": "UOrEA21uN1zL"
      },
      "source": [
        "Lets try something else. We can see what movies a given user has rated by \"merging\" the two dataframes - this equates to a JOIN in SQL. Lets do this for userId 556.\n"
      ]
    },
    {
      "cell_type": "code",
      "metadata": {
        "id": "M73Di67MN2Jk",
        "colab": {
          "base_uri": "https://localhost:8080/",
          "height": 1000
        },
        "outputId": "62287d09-0f47-4d61-dff5-4c2d6a2effcd"
      },
      "source": [
        "pd.merge(\n",
        "    ratings_df[ratings_df[\"userId\"]=='u556'], \n",
        "    movies_df, \n",
        "    on=[\"movieId\"]).sort_values(by=\"rating\", ascending=False)"
      ],
      "execution_count": null,
      "outputs": [
        {
          "output_type": "execute_result",
          "data": {
            "text/html": [
              "<div>\n",
              "<style scoped>\n",
              "    .dataframe tbody tr th:only-of-type {\n",
              "        vertical-align: middle;\n",
              "    }\n",
              "\n",
              "    .dataframe tbody tr th {\n",
              "        vertical-align: top;\n",
              "    }\n",
              "\n",
              "    .dataframe thead th {\n",
              "        text-align: right;\n",
              "    }\n",
              "</style>\n",
              "<table border=\"1\" class=\"dataframe\">\n",
              "  <thead>\n",
              "    <tr style=\"text-align: right;\">\n",
              "      <th></th>\n",
              "      <th>userId</th>\n",
              "      <th>movieId</th>\n",
              "      <th>rating</th>\n",
              "      <th>timestamp</th>\n",
              "      <th>title</th>\n",
              "      <th>genres</th>\n",
              "    </tr>\n",
              "  </thead>\n",
              "  <tbody>\n",
              "    <tr>\n",
              "      <th>0</th>\n",
              "      <td>u556</td>\n",
              "      <td>m588</td>\n",
              "      <td>5.0</td>\n",
              "      <td>1534321062</td>\n",
              "      <td>Aladdin (1992)</td>\n",
              "      <td>Adventure|Animation|Children|Comedy|Musical</td>\n",
              "    </tr>\n",
              "    <tr>\n",
              "      <th>2</th>\n",
              "      <td>u556</td>\n",
              "      <td>m4896</td>\n",
              "      <td>5.0</td>\n",
              "      <td>1534320962</td>\n",
              "      <td>Harry Potter and the Sorcerer's Stone (a.k.a. ...</td>\n",
              "      <td>Adventure|Children|Fantasy</td>\n",
              "    </tr>\n",
              "    <tr>\n",
              "      <th>27</th>\n",
              "      <td>u556</td>\n",
              "      <td>m112852</td>\n",
              "      <td>5.0</td>\n",
              "      <td>1534321287</td>\n",
              "      <td>Guardians of the Galaxy (2014)</td>\n",
              "      <td>Action|Adventure|Sci-Fi</td>\n",
              "    </tr>\n",
              "    <tr>\n",
              "      <th>21</th>\n",
              "      <td>u556</td>\n",
              "      <td>m76093</td>\n",
              "      <td>5.0</td>\n",
              "      <td>1534320965</td>\n",
              "      <td>How to Train Your Dragon (2010)</td>\n",
              "      <td>Adventure|Animation|Children|Fantasy|IMAX</td>\n",
              "    </tr>\n",
              "    <tr>\n",
              "      <th>3</th>\n",
              "      <td>u556</td>\n",
              "      <td>m4993</td>\n",
              "      <td>4.5</td>\n",
              "      <td>1534320935</td>\n",
              "      <td>Lord of the Rings: The Fellowship of the Ring,...</td>\n",
              "      <td>Adventure|Fantasy</td>\n",
              "    </tr>\n",
              "    <tr>\n",
              "      <th>4</th>\n",
              "      <td>u556</td>\n",
              "      <td>m5816</td>\n",
              "      <td>4.5</td>\n",
              "      <td>1534320982</td>\n",
              "      <td>Harry Potter and the Chamber of Secrets (2002)</td>\n",
              "      <td>Adventure|Fantasy</td>\n",
              "    </tr>\n",
              "    <tr>\n",
              "      <th>23</th>\n",
              "      <td>u556</td>\n",
              "      <td>m88125</td>\n",
              "      <td>4.5</td>\n",
              "      <td>1534320986</td>\n",
              "      <td>Harry Potter and the Deathly Hallows: Part 2 (...</td>\n",
              "      <td>Action|Adventure|Drama|Fantasy|Mystery|IMAX</td>\n",
              "    </tr>\n",
              "    <tr>\n",
              "      <th>13</th>\n",
              "      <td>u556</td>\n",
              "      <td>m49649</td>\n",
              "      <td>4.5</td>\n",
              "      <td>1534321075</td>\n",
              "      <td>Eragon (2006)</td>\n",
              "      <td>Action|Adventure|Fantasy</td>\n",
              "    </tr>\n",
              "    <tr>\n",
              "      <th>18</th>\n",
              "      <td>u556</td>\n",
              "      <td>m72998</td>\n",
              "      <td>4.0</td>\n",
              "      <td>1534321171</td>\n",
              "      <td>Avatar (2009)</td>\n",
              "      <td>Action|Adventure|Sci-Fi|IMAX</td>\n",
              "    </tr>\n",
              "    <tr>\n",
              "      <th>30</th>\n",
              "      <td>u556</td>\n",
              "      <td>m162600</td>\n",
              "      <td>4.0</td>\n",
              "      <td>1534321200</td>\n",
              "      <td>Miss Peregrine's Home for Peculiar Children (2...</td>\n",
              "      <td>Fantasy</td>\n",
              "    </tr>\n",
              "    <tr>\n",
              "      <th>29</th>\n",
              "      <td>u556</td>\n",
              "      <td>m122890</td>\n",
              "      <td>4.0</td>\n",
              "      <td>1534321026</td>\n",
              "      <td>Warcraft (2016)</td>\n",
              "      <td>Action|Adventure|Fantasy</td>\n",
              "    </tr>\n",
              "    <tr>\n",
              "      <th>28</th>\n",
              "      <td>u556</td>\n",
              "      <td>m118997</td>\n",
              "      <td>4.0</td>\n",
              "      <td>1534321209</td>\n",
              "      <td>Into the Woods (2014)</td>\n",
              "      <td>Children|Comedy|Fantasy|Musical</td>\n",
              "    </tr>\n",
              "    <tr>\n",
              "      <th>26</th>\n",
              "      <td>u556</td>\n",
              "      <td>m98809</td>\n",
              "      <td>4.0</td>\n",
              "      <td>1534320967</td>\n",
              "      <td>Hobbit: An Unexpected Journey, The (2012)</td>\n",
              "      <td>Adventure|Fantasy|IMAX</td>\n",
              "    </tr>\n",
              "    <tr>\n",
              "      <th>24</th>\n",
              "      <td>u556</td>\n",
              "      <td>m93363</td>\n",
              "      <td>4.0</td>\n",
              "      <td>1534321171</td>\n",
              "      <td>John Carter (2012)</td>\n",
              "      <td>Action|Adventure|Sci-Fi|IMAX</td>\n",
              "    </tr>\n",
              "    <tr>\n",
              "      <th>22</th>\n",
              "      <td>u556</td>\n",
              "      <td>m78105</td>\n",
              "      <td>4.0</td>\n",
              "      <td>1534321036</td>\n",
              "      <td>Prince of Persia: The Sands of Time (2010)</td>\n",
              "      <td>Action|Adventure|Fantasy|Romance|IMAX</td>\n",
              "    </tr>\n",
              "    <tr>\n",
              "      <th>20</th>\n",
              "      <td>u556</td>\n",
              "      <td>m74789</td>\n",
              "      <td>4.0</td>\n",
              "      <td>1534321017</td>\n",
              "      <td>Alice in Wonderland (2010)</td>\n",
              "      <td>Adventure|Fantasy|IMAX</td>\n",
              "    </tr>\n",
              "    <tr>\n",
              "      <th>31</th>\n",
              "      <td>u556</td>\n",
              "      <td>m187031</td>\n",
              "      <td>4.0</td>\n",
              "      <td>1534321194</td>\n",
              "      <td>Jurassic World: Fallen Kingdom (2018)</td>\n",
              "      <td>Action|Adventure|Drama|Sci-Fi|Thriller</td>\n",
              "    </tr>\n",
              "    <tr>\n",
              "      <th>1</th>\n",
              "      <td>u556</td>\n",
              "      <td>m3081</td>\n",
              "      <td>4.0</td>\n",
              "      <td>1534321047</td>\n",
              "      <td>Sleepy Hollow (1999)</td>\n",
              "      <td>Fantasy|Horror|Mystery|Romance</td>\n",
              "    </tr>\n",
              "    <tr>\n",
              "      <th>15</th>\n",
              "      <td>u556</td>\n",
              "      <td>m56171</td>\n",
              "      <td>4.0</td>\n",
              "      <td>1534321207</td>\n",
              "      <td>Golden Compass, The (2007)</td>\n",
              "      <td>Adventure|Children|Fantasy</td>\n",
              "    </tr>\n",
              "    <tr>\n",
              "      <th>14</th>\n",
              "      <td>u556</td>\n",
              "      <td>m54001</td>\n",
              "      <td>4.0</td>\n",
              "      <td>1534321024</td>\n",
              "      <td>Harry Potter and the Order of the Phoenix (2007)</td>\n",
              "      <td>Adventure|Drama|Fantasy|IMAX</td>\n",
              "    </tr>\n",
              "    <tr>\n",
              "      <th>12</th>\n",
              "      <td>u556</td>\n",
              "      <td>m48394</td>\n",
              "      <td>4.0</td>\n",
              "      <td>1534320956</td>\n",
              "      <td>Pan's Labyrinth (Laberinto del fauno, El) (2006)</td>\n",
              "      <td>Drama|Fantasy|Thriller</td>\n",
              "    </tr>\n",
              "    <tr>\n",
              "      <th>10</th>\n",
              "      <td>u556</td>\n",
              "      <td>m40815</td>\n",
              "      <td>4.0</td>\n",
              "      <td>1534321013</td>\n",
              "      <td>Harry Potter and the Goblet of Fire (2005)</td>\n",
              "      <td>Adventure|Fantasy|Thriller|IMAX</td>\n",
              "    </tr>\n",
              "    <tr>\n",
              "      <th>9</th>\n",
              "      <td>u556</td>\n",
              "      <td>m8368</td>\n",
              "      <td>4.0</td>\n",
              "      <td>1534321009</td>\n",
              "      <td>Harry Potter and the Prisoner of Azkaban (2004)</td>\n",
              "      <td>Adventure|Fantasy|IMAX</td>\n",
              "    </tr>\n",
              "    <tr>\n",
              "      <th>8</th>\n",
              "      <td>u556</td>\n",
              "      <td>m7153</td>\n",
              "      <td>4.0</td>\n",
              "      <td>1534320952</td>\n",
              "      <td>Lord of the Rings: The Return of the King, The...</td>\n",
              "      <td>Action|Adventure|Drama|Fantasy</td>\n",
              "    </tr>\n",
              "    <tr>\n",
              "      <th>7</th>\n",
              "      <td>u556</td>\n",
              "      <td>m6754</td>\n",
              "      <td>4.0</td>\n",
              "      <td>1534321199</td>\n",
              "      <td>Underworld (2003)</td>\n",
              "      <td>Action|Fantasy|Horror</td>\n",
              "    </tr>\n",
              "    <tr>\n",
              "      <th>6</th>\n",
              "      <td>u556</td>\n",
              "      <td>m6539</td>\n",
              "      <td>4.0</td>\n",
              "      <td>1534321011</td>\n",
              "      <td>Pirates of the Caribbean: The Curse of the Bla...</td>\n",
              "      <td>Action|Adventure|Comedy|Fantasy</td>\n",
              "    </tr>\n",
              "    <tr>\n",
              "      <th>5</th>\n",
              "      <td>u556</td>\n",
              "      <td>m5952</td>\n",
              "      <td>4.0</td>\n",
              "      <td>1534320953</td>\n",
              "      <td>Lord of the Rings: The Two Towers, The (2002)</td>\n",
              "      <td>Adventure|Fantasy</td>\n",
              "    </tr>\n",
              "    <tr>\n",
              "      <th>17</th>\n",
              "      <td>u556</td>\n",
              "      <td>m69844</td>\n",
              "      <td>3.5</td>\n",
              "      <td>1534320977</td>\n",
              "      <td>Harry Potter and the Half-Blood Prince (2009)</td>\n",
              "      <td>Adventure|Fantasy|Mystery|Romance|IMAX</td>\n",
              "    </tr>\n",
              "    <tr>\n",
              "      <th>19</th>\n",
              "      <td>u556</td>\n",
              "      <td>m74530</td>\n",
              "      <td>3.5</td>\n",
              "      <td>1534321044</td>\n",
              "      <td>Percy Jackson &amp; the Olympians: The Lightning T...</td>\n",
              "      <td>Adventure|Fantasy</td>\n",
              "    </tr>\n",
              "    <tr>\n",
              "      <th>11</th>\n",
              "      <td>u556</td>\n",
              "      <td>m41566</td>\n",
              "      <td>3.5</td>\n",
              "      <td>1534320971</td>\n",
              "      <td>Chronicles of Narnia: The Lion, the Witch and ...</td>\n",
              "      <td>Adventure|Children|Fantasy</td>\n",
              "    </tr>\n",
              "    <tr>\n",
              "      <th>25</th>\n",
              "      <td>u556</td>\n",
              "      <td>m94780</td>\n",
              "      <td>3.5</td>\n",
              "      <td>1534321052</td>\n",
              "      <td>Snow White and the Huntsman (2012)</td>\n",
              "      <td>Action|Adventure|Drama</td>\n",
              "    </tr>\n",
              "    <tr>\n",
              "      <th>16</th>\n",
              "      <td>u556</td>\n",
              "      <td>m63992</td>\n",
              "      <td>2.5</td>\n",
              "      <td>1534321030</td>\n",
              "      <td>Twilight (2008)</td>\n",
              "      <td>Drama|Fantasy|Romance|Thriller</td>\n",
              "    </tr>\n",
              "  </tbody>\n",
              "</table>\n",
              "</div>"
            ],
            "text/plain": [
              "   userId  ...                                       genres\n",
              "0    u556  ...  Adventure|Animation|Children|Comedy|Musical\n",
              "2    u556  ...                   Adventure|Children|Fantasy\n",
              "27   u556  ...                      Action|Adventure|Sci-Fi\n",
              "21   u556  ...    Adventure|Animation|Children|Fantasy|IMAX\n",
              "3    u556  ...                            Adventure|Fantasy\n",
              "4    u556  ...                            Adventure|Fantasy\n",
              "23   u556  ...  Action|Adventure|Drama|Fantasy|Mystery|IMAX\n",
              "13   u556  ...                     Action|Adventure|Fantasy\n",
              "18   u556  ...                 Action|Adventure|Sci-Fi|IMAX\n",
              "30   u556  ...                                      Fantasy\n",
              "29   u556  ...                     Action|Adventure|Fantasy\n",
              "28   u556  ...              Children|Comedy|Fantasy|Musical\n",
              "26   u556  ...                       Adventure|Fantasy|IMAX\n",
              "24   u556  ...                 Action|Adventure|Sci-Fi|IMAX\n",
              "22   u556  ...        Action|Adventure|Fantasy|Romance|IMAX\n",
              "20   u556  ...                       Adventure|Fantasy|IMAX\n",
              "31   u556  ...       Action|Adventure|Drama|Sci-Fi|Thriller\n",
              "1    u556  ...               Fantasy|Horror|Mystery|Romance\n",
              "15   u556  ...                   Adventure|Children|Fantasy\n",
              "14   u556  ...                 Adventure|Drama|Fantasy|IMAX\n",
              "12   u556  ...                       Drama|Fantasy|Thriller\n",
              "10   u556  ...              Adventure|Fantasy|Thriller|IMAX\n",
              "9    u556  ...                       Adventure|Fantasy|IMAX\n",
              "8    u556  ...               Action|Adventure|Drama|Fantasy\n",
              "7    u556  ...                        Action|Fantasy|Horror\n",
              "6    u556  ...              Action|Adventure|Comedy|Fantasy\n",
              "5    u556  ...                            Adventure|Fantasy\n",
              "17   u556  ...       Adventure|Fantasy|Mystery|Romance|IMAX\n",
              "19   u556  ...                            Adventure|Fantasy\n",
              "11   u556  ...                   Adventure|Children|Fantasy\n",
              "25   u556  ...                       Action|Adventure|Drama\n",
              "16   u556  ...               Drama|Fantasy|Romance|Thriller\n",
              "\n",
              "[32 rows x 6 columns]"
            ]
          },
          "metadata": {
            "tags": []
          },
          "execution_count": 15
        }
      ]
    },
    {
      "cell_type": "markdown",
      "metadata": {
        "id": "B0IXWKgSOOOV"
      },
      "source": [
        "This user is pretty into adventure/fantasies. \n",
        "\n",
        "NB: If the columns we are joining on dont have the same name, we can specify `left_on` and `right_on` attributes. See also the  [pd.merge()](https://pandas.pydata.org/pandas-docs/stable/reference/api/pandas.DataFrame.merge.html) documentation."
      ]
    },
    {
      "cell_type": "markdown",
      "metadata": {
        "id": "kxvFO4x7_Obe"
      },
      "source": [
        "## Task 4. Analysing movie categories\n",
        "\n",
        "Lets examine two particular users a bit more, u556 and u7.\n",
        "\n",
        " - How many movies with \"Fantasy\" genre have u7 rated positively ($\\geq 4$)? \n",
        "\n",
        " - How many movies with \"Fantasy\" genre have u556 rated positively ($\\geq 4$)? \n",
        "\n",
        " - What percentage of ALL of u556's ratings are positive ratings ($\\geq 4$)  AND for movies belonging to the \"Fantasy\" genre?\n",
        "\n",
        "Hints:\n",
        " - Pandas Series has a useful `str.contains()` function:  https://pandas.pydata.org/pandas-docs/stable/reference/api/pandas.Series.str.contains.html\n",
        " - Pandas dataframes respond to `len()` as you would expect."
      ]
    },
    {
      "cell_type": "code",
      "metadata": {
        "id": "GYIo0HzBCfU1",
        "colab": {
          "base_uri": "https://localhost:8080/"
        },
        "outputId": "5972029c-5c8f-4499-fbf1-806476723770"
      },
      "source": [
        "# add your solution here\n",
        "\n",
        "# movies with \"Fantasy\" genre, u7 rated positively ( ≥4 )\n",
        "u7 = pd.merge(\n",
        "    ratings_df[(ratings_df[\"userId\"]=='u7') & (ratings_df[\"rating\"] >= 4.0) ], \n",
        "    movies_df[movies_df[\"genres\"].str.contains('Fantasy')],\n",
        "    on=[\"movieId\"]).sort_values(by=\"rating\", ascending=False)\n",
        "\n",
        "# movies with \"Fantasy\" genre, u556 rated positively ( ≥4 )\n",
        "u556 = pd.merge(\n",
        "    ratings_df[(ratings_df[\"userId\"]=='u556') & (ratings_df[\"rating\"] >= 4.0) ], \n",
        "    movies_df[movies_df[\"genres\"].str.contains('Fantasy')],\n",
        "    on=[\"movieId\"]).sort_values(by=\"rating\", ascending=False)\n",
        "\n",
        "# number of ratings given by u556\n",
        "u556_all_ratings =  ratings_df[ratings_df[\"userId\"]=='u556']['rating'].count()\n",
        "\n",
        "#percentage of ALL of u556's ratings are positive ratings ( ≥4 ) AND for movies belonging to the \"Fantasy\" genre\n",
        "ratio_556 = (len(u556) / u556_all_ratings ) \n",
        "\n",
        "print(\"Number of Fantasy genre movie rated positively by following users - \")\n",
        "print(\"1) u7 : \",len(u7))\n",
        "print(\"2) u556 :\",len(u556))\n",
        "print(\"3) Percentage of u556 positive reviews for fantasy genre : \", round(ratio_556,2))"
      ],
      "execution_count": null,
      "outputs": [
        {
          "output_type": "stream",
          "text": [
            "Number of Fantasy genre movie rated positively by following users - \n",
            "1) u7 :  11\n",
            "2) u556 : 22\n",
            "3) Percentage of u556 positive reviews for fantasy genre :  0.69\n"
          ],
          "name": "stdout"
        }
      ]
    },
    {
      "cell_type": "markdown",
      "metadata": {
        "id": "2jpHFK3LI7do"
      },
      "source": [
        "# Part B. Popularity-based Recomendation\n",
        "\n",
        "Now lets examine the ratings of movies. \n",
        "\n",
        "We can get a dataframe containing the number of times a movie has been rated by applying a groupby and aggregation of the ratings_df.\n"
      ]
    },
    {
      "cell_type": "code",
      "metadata": {
        "id": "QMhogBiLjSzu",
        "colab": {
          "base_uri": "https://localhost:8080/",
          "height": 450
        },
        "outputId": "8dea68d9-3779-45da-a679-b9e92c6a8e0e"
      },
      "source": [
        "groupingCountSeries = ratings_df[[\"movieId\", \"rating\"]].groupby([\"movieId\"]).count()\n",
        "groupingCountSeries[groupingCountSeries.rating<25]"
      ],
      "execution_count": null,
      "outputs": [
        {
          "output_type": "execute_result",
          "data": {
            "text/html": [
              "<div>\n",
              "<style scoped>\n",
              "    .dataframe tbody tr th:only-of-type {\n",
              "        vertical-align: middle;\n",
              "    }\n",
              "\n",
              "    .dataframe tbody tr th {\n",
              "        vertical-align: top;\n",
              "    }\n",
              "\n",
              "    .dataframe thead th {\n",
              "        text-align: right;\n",
              "    }\n",
              "</style>\n",
              "<table border=\"1\" class=\"dataframe\">\n",
              "  <thead>\n",
              "    <tr style=\"text-align: right;\">\n",
              "      <th></th>\n",
              "      <th>rating</th>\n",
              "    </tr>\n",
              "    <tr>\n",
              "      <th>movieId</th>\n",
              "      <th></th>\n",
              "    </tr>\n",
              "  </thead>\n",
              "  <tbody>\n",
              "    <tr>\n",
              "      <th>m100</th>\n",
              "      <td>14</td>\n",
              "    </tr>\n",
              "    <tr>\n",
              "      <th>m100044</th>\n",
              "      <td>1</td>\n",
              "    </tr>\n",
              "    <tr>\n",
              "      <th>m100068</th>\n",
              "      <td>1</td>\n",
              "    </tr>\n",
              "    <tr>\n",
              "      <th>m100083</th>\n",
              "      <td>3</td>\n",
              "    </tr>\n",
              "    <tr>\n",
              "      <th>m100106</th>\n",
              "      <td>1</td>\n",
              "    </tr>\n",
              "    <tr>\n",
              "      <th>...</th>\n",
              "      <td>...</td>\n",
              "    </tr>\n",
              "    <tr>\n",
              "      <th>m99853</th>\n",
              "      <td>1</td>\n",
              "    </tr>\n",
              "    <tr>\n",
              "      <th>m999</th>\n",
              "      <td>12</td>\n",
              "    </tr>\n",
              "    <tr>\n",
              "      <th>m99910</th>\n",
              "      <td>2</td>\n",
              "    </tr>\n",
              "    <tr>\n",
              "      <th>m99917</th>\n",
              "      <td>3</td>\n",
              "    </tr>\n",
              "    <tr>\n",
              "      <th>m99992</th>\n",
              "      <td>1</td>\n",
              "    </tr>\n",
              "  </tbody>\n",
              "</table>\n",
              "<p>8674 rows × 1 columns</p>\n",
              "</div>"
            ],
            "text/plain": [
              "         rating\n",
              "movieId        \n",
              "m100         14\n",
              "m100044       1\n",
              "m100068       1\n",
              "m100083       3\n",
              "m100106       1\n",
              "...         ...\n",
              "m99853        1\n",
              "m999         12\n",
              "m99910        2\n",
              "m99917        3\n",
              "m99992        1\n",
              "\n",
              "[8674 rows x 1 columns]"
            ]
          },
          "metadata": {
            "tags": []
          },
          "execution_count": 17
        }
      ]
    },
    {
      "cell_type": "markdown",
      "metadata": {
        "id": "ak38W5u1jkgu"
      },
      "source": [
        "##Task 5. Plot the distribution of movie ratings.\n",
        "\n",
        "Use Matplotlib's histogram function to plot the distribution of movie ratings from the `groupingCountSeries` dataframe. This will produce a bar chart with 'binned' counts.\n",
        "\n",
        "Hints: \n",
        "- apply a logarithmic scale for the y-axis, using matplotlib's `log=True` option.\n",
        "- Allow matplotlib to use its default number of bins (which is 10).\n",
        "- Matplotlib has a [`savefig()`](https://chartio.com/resources/tutorials/how-to-save-a-plot-to-a-file-using-matplotlib/#the-savefig-method) function for saving a PNG of a figure.\n",
        "\n",
        "You will need to analyse this graph in the quiz."
      ]
    },
    {
      "cell_type": "code",
      "metadata": {
        "id": "aBISjUn7jgSy",
        "colab": {
          "base_uri": "https://localhost:8080/",
          "height": 312
        },
        "outputId": "e49d5520-9566-4e48-961f-39ec4e606a8d"
      },
      "source": [
        "# add your solution here\n",
        "import matplotlib.pyplot as plt\n",
        "\n",
        "plt.hist(groupingCountSeries['rating'], log = True, color = (0.5,0.1,0.5,0.6))\n",
        "plt.title('Distribution of Movie Ratings')\n",
        "plt.xlabel('Number of Ratings')\n",
        "plt.ylabel('Number of Movies')\n",
        "plt.savefig('task5.png')\n",
        "plt.plot()"
      ],
      "execution_count": null,
      "outputs": [
        {
          "output_type": "execute_result",
          "data": {
            "text/plain": [
              "[]"
            ]
          },
          "metadata": {
            "tags": []
          },
          "execution_count": 18
        },
        {
          "output_type": "display_data",
          "data": {
            "image/png": "[encoded data removed]",
            "text/plain": [
              "<Figure size 432x288 with 1 Axes>"
            ]
          },
          "metadata": {
            "tags": [],
            "needs_background": "light"
          }
        }
      ]
    },
    {
      "cell_type": "markdown",
      "metadata": {
        "id": "mN9DjXtHAt0A"
      },
      "source": [
        "\n",
        "## Task 6. Find the names of *all* of the movies that have the highest *average* ratings?\n",
        "\n",
        "You should return a dataframe containing the ids and names of the movies, their average ratings, and the number of ratings. NB: You may need to analyse this dataframe further to answer the questions in the quiz.\n",
        "\n",
        "Hints:\n",
        " - Try a [groupby()](https://pandas.pydata.org/pandas-docs/stable/reference/api/pandas.DataFrame.groupby.html). Once you have a Series with columns [movieId, meanRating], identify the highest value of meanRating. You can then merge this with the movies_df.\n",
        " - If the column we are trying to merge on is an index, we can use  `left_index=True` or `right_index=True` in the [pd.merge()](https://pandas.pydata.org/pandas-docs/stable/reference/api/pandas.merge.html).\n"
      ]
    },
    {
      "cell_type": "code",
      "metadata": {
        "colab": {
          "base_uri": "https://localhost:8080/",
          "height": 419
        },
        "id": "m21xQrFI2pyi",
        "outputId": "a835aa27-29fd-48c1-8477-01cda58bb0d1"
      },
      "source": [
        "# add your solution here\n",
        "\n",
        "grouped_movieId = ratings_df.groupby(['movieId'])\n",
        "\n",
        "#averaging each movie rating and storing in 'average rating' column\n",
        "each_movie_average_rating = grouped_movieId['rating'].agg([np.mean]).reset_index().rename(columns={\"movieId\" : \"movieId\",\"mean\" : \"Average Rating\"})\n",
        "\n",
        "#highest value of average Rating\n",
        "high_rating = each_movie_average_rating['Average Rating'].max()\n",
        "\n",
        "#Counting each movie's rating and storing in 'Number of ratings' column\n",
        "each_movie_rating_count = ratings_df.groupby(['movieId'])['rating'].count().reset_index().rename(columns={\"movieId\" : \"movieId\", \"rating\" : \"Number of ratings\"})\n",
        "\n",
        "#temp2 containing the ids and names of the movies, their average ratings, and the number of ratings\n",
        "temp = pd.merge(\n",
        "    movies_df,\n",
        "    each_movie_average_rating,\n",
        "    left_index = True,\n",
        "    on=[\"movieId\"])\n",
        "\n",
        "temp2 = pd.merge(\n",
        "    temp,\n",
        "    each_movie_rating_count,\n",
        "    left_index = True,\n",
        "    on=[\"movieId\"])\n",
        "\n",
        "#all of the movies that have the highest average ratings\n",
        "movie_highest_avg_ratings = temp2[temp2['Average Rating'] == high_rating]\n",
        "movie_highest_avg_ratings"
      ],
      "execution_count": null,
      "outputs": [
        {
          "output_type": "execute_result",
          "data": {
            "text/html": [
              "<div>\n",
              "<style scoped>\n",
              "    .dataframe tbody tr th:only-of-type {\n",
              "        vertical-align: middle;\n",
              "    }\n",
              "\n",
              "    .dataframe tbody tr th {\n",
              "        vertical-align: top;\n",
              "    }\n",
              "\n",
              "    .dataframe thead th {\n",
              "        text-align: right;\n",
              "    }\n",
              "</style>\n",
              "<table border=\"1\" class=\"dataframe\">\n",
              "  <thead>\n",
              "    <tr style=\"text-align: right;\">\n",
              "      <th></th>\n",
              "      <th>movieId</th>\n",
              "      <th>title</th>\n",
              "      <th>genres</th>\n",
              "      <th>Average Rating</th>\n",
              "      <th>Number of ratings</th>\n",
              "    </tr>\n",
              "  </thead>\n",
              "  <tbody>\n",
              "    <tr>\n",
              "      <th>6177</th>\n",
              "      <td>m53</td>\n",
              "      <td>Lamerica (1994)</td>\n",
              "      <td>Adventure|Drama</td>\n",
              "      <td>5.0</td>\n",
              "      <td>2</td>\n",
              "    </tr>\n",
              "    <tr>\n",
              "      <th>9687</th>\n",
              "      <td>m99</td>\n",
              "      <td>Heidi Fleiss: Hollywood Madam (1995)</td>\n",
              "      <td>Documentary</td>\n",
              "      <td>5.0</td>\n",
              "      <td>2</td>\n",
              "    </tr>\n",
              "    <tr>\n",
              "      <th>1479</th>\n",
              "      <td>m148</td>\n",
              "      <td>Awfully Big Adventure, An (1995)</td>\n",
              "      <td>Drama</td>\n",
              "      <td>5.0</td>\n",
              "      <td>1</td>\n",
              "    </tr>\n",
              "    <tr>\n",
              "      <th>5509</th>\n",
              "      <td>m467</td>\n",
              "      <td>Live Nude Girls (1995)</td>\n",
              "      <td>Comedy</td>\n",
              "      <td>5.0</td>\n",
              "      <td>1</td>\n",
              "    </tr>\n",
              "    <tr>\n",
              "      <th>5829</th>\n",
              "      <td>m495</td>\n",
              "      <td>In the Realm of the Senses (Ai no corrida) (1976)</td>\n",
              "      <td>Drama</td>\n",
              "      <td>5.0</td>\n",
              "      <td>1</td>\n",
              "    </tr>\n",
              "    <tr>\n",
              "      <th>...</th>\n",
              "      <td>...</td>\n",
              "      <td>...</td>\n",
              "      <td>...</td>\n",
              "      <td>...</td>\n",
              "      <td>...</td>\n",
              "    </tr>\n",
              "    <tr>\n",
              "      <th>2147</th>\n",
              "      <td>m176601</td>\n",
              "      <td>Black Mirror</td>\n",
              "      <td>(no genres listed)</td>\n",
              "      <td>5.0</td>\n",
              "      <td>1</td>\n",
              "    </tr>\n",
              "    <tr>\n",
              "      <th>2183</th>\n",
              "      <td>m179133</td>\n",
              "      <td>Loving Vincent (2017)</td>\n",
              "      <td>Animation|Crime|Drama</td>\n",
              "      <td>5.0</td>\n",
              "      <td>1</td>\n",
              "    </tr>\n",
              "    <tr>\n",
              "      <th>2184</th>\n",
              "      <td>m179135</td>\n",
              "      <td>Blue Planet II (2017)</td>\n",
              "      <td>Documentary</td>\n",
              "      <td>5.0</td>\n",
              "      <td>1</td>\n",
              "    </tr>\n",
              "    <tr>\n",
              "      <th>2273</th>\n",
              "      <td>m184245</td>\n",
              "      <td>De platte jungle (1978)</td>\n",
              "      <td>Documentary</td>\n",
              "      <td>5.0</td>\n",
              "      <td>1</td>\n",
              "    </tr>\n",
              "    <tr>\n",
              "      <th>2316</th>\n",
              "      <td>m187717</td>\n",
              "      <td>Won't You Be My Neighbor? (2018)</td>\n",
              "      <td>Documentary</td>\n",
              "      <td>5.0</td>\n",
              "      <td>1</td>\n",
              "    </tr>\n",
              "  </tbody>\n",
              "</table>\n",
              "<p>296 rows × 5 columns</p>\n",
              "</div>"
            ],
            "text/plain": [
              "      movieId  ... Number of ratings\n",
              "6177      m53  ...                 2\n",
              "9687      m99  ...                 2\n",
              "1479     m148  ...                 1\n",
              "5509     m467  ...                 1\n",
              "5829     m495  ...                 1\n",
              "...       ...  ...               ...\n",
              "2147  m176601  ...                 1\n",
              "2183  m179133  ...                 1\n",
              "2184  m179135  ...                 1\n",
              "2273  m184245  ...                 1\n",
              "2316  m187717  ...                 1\n",
              "\n",
              "[296 rows x 5 columns]"
            ]
          },
          "metadata": {
            "tags": []
          },
          "execution_count": 20
        }
      ]
    },
    {
      "cell_type": "markdown",
      "metadata": {
        "id": "TmRzCDf9iL9t"
      },
      "source": [
        "You can nosw answer the question in the quiz for Task 6, based on your  observations on analysing this table?"
      ]
    },
    {
      "cell_type": "code",
      "metadata": {
        "colab": {
          "base_uri": "https://localhost:8080/",
          "height": 80
        },
        "id": "1Hlx17a09Xkb",
        "outputId": "4c43abb2-af55-4463-d4b2-e255a1da99dc"
      },
      "source": [
        "movie_highest_avg_ratings[movie_highest_avg_ratings['movieId'] == 'm6442']"
      ],
      "execution_count": null,
      "outputs": [
        {
          "output_type": "execute_result",
          "data": {
            "text/html": [
              "<div>\n",
              "<style scoped>\n",
              "    .dataframe tbody tr th:only-of-type {\n",
              "        vertical-align: middle;\n",
              "    }\n",
              "\n",
              "    .dataframe tbody tr th {\n",
              "        vertical-align: top;\n",
              "    }\n",
              "\n",
              "    .dataframe thead th {\n",
              "        text-align: right;\n",
              "    }\n",
              "</style>\n",
              "<table border=\"1\" class=\"dataframe\">\n",
              "  <thead>\n",
              "    <tr style=\"text-align: right;\">\n",
              "      <th></th>\n",
              "      <th>movieId</th>\n",
              "      <th>title</th>\n",
              "      <th>genres</th>\n",
              "      <th>Average Rating</th>\n",
              "      <th>Number of ratings</th>\n",
              "    </tr>\n",
              "  </thead>\n",
              "  <tbody>\n",
              "    <tr>\n",
              "      <th>7301</th>\n",
              "      <td>m6442</td>\n",
              "      <td>Belle époque (1992)</td>\n",
              "      <td>Comedy|Romance</td>\n",
              "      <td>5.0</td>\n",
              "      <td>2</td>\n",
              "    </tr>\n",
              "  </tbody>\n",
              "</table>\n",
              "</div>"
            ],
            "text/plain": [
              "     movieId                title  ... Average Rating  Number of ratings\n",
              "7301   m6442  Belle époque (1992)  ...            5.0                  2\n",
              "\n",
              "[1 rows x 5 columns]"
            ]
          },
          "metadata": {
            "tags": []
          },
          "execution_count": 21
        }
      ]
    },
    {
      "cell_type": "code",
      "metadata": {
        "colab": {
          "base_uri": "https://localhost:8080/"
        },
        "id": "yBB-1r8c9rdI",
        "outputId": "2cbdf7d2-5127-4951-d798-f3b8f9c56902"
      },
      "source": [
        "print(len(movie_highest_avg_ratings))"
      ],
      "execution_count": null,
      "outputs": [
        {
          "output_type": "stream",
          "text": [
            "296\n"
          ],
          "name": "stdout"
        }
      ]
    },
    {
      "cell_type": "markdown",
      "metadata": {
        "id": "8ryQHGrwyqp8"
      },
      "source": [
        "# Part C - Association Rules and Lift\n",
        "\n",
        "I think we can do better than simply examining movie popularity. \n",
        "\n",
        "Lets take all of the positive ratings (4 or 5), and find the most popular pairs of movies that users have watched.\n",
        "\n",
        "There is a lot going on there, so please take the time to break it down to understand what it does.\n",
        "\n",
        "NB: In this code, we perform a \"self-join\" on a dataframe. If this is unfamiliar, you can read more at:\n",
        " - https://dfrieds.com/data-analysis/self-join-python-pandas.html\n",
        " - https://www.w3schools.com/sql/sql_join_self.asp\n",
        "\n"
      ]
    },
    {
      "cell_type": "code",
      "metadata": {
        "id": "MjH26WMcHm_K",
        "colab": {
          "base_uri": "https://localhost:8080/",
          "height": 204
        },
        "outputId": "e17123c3-311c-4cc9-c444-4ffdc991d8eb"
      },
      "source": [
        "positives = ratings_df[ratings_df[\"rating\"]>=4]\n",
        "\n",
        "#join positives with itself on userId to get all pairs of movies watched by a given user.\n",
        "pairs = pd.merge(positives, positives, on=[\"userId\"])\n",
        "\n",
        "#we only want A->B, not B->A. Use the timestamps to restrict the selected pairs\n",
        "sequences = pairs[pairs[\"timestamp_x\"] < pairs[\"timestamp_y\"]] \n",
        "\n",
        "#lets count the frequency of each pair of movies.\n",
        "paircounts = sequences[[\"movieId_x\", \"movieId_y\", \"userId\"]].groupby([\"movieId_x\", \"movieId_y\"]).count()\n",
        "\n",
        "#sort by the most popular pairs.\n",
        "pairswithcounts = paircounts.reset_index().rename(columns={\"userId\" : \"count\"}).sort_values(['count'], ascending=False)\n",
        "\n",
        "#display the top most frequent pairs\n",
        "pairswithcounts.head()"
      ],
      "execution_count": null,
      "outputs": [
        {
          "output_type": "execute_result",
          "data": {
            "text/html": [
              "<div>\n",
              "<style scoped>\n",
              "    .dataframe tbody tr th:only-of-type {\n",
              "        vertical-align: middle;\n",
              "    }\n",
              "\n",
              "    .dataframe tbody tr th {\n",
              "        vertical-align: top;\n",
              "    }\n",
              "\n",
              "    .dataframe thead th {\n",
              "        text-align: right;\n",
              "    }\n",
              "</style>\n",
              "<table border=\"1\" class=\"dataframe\">\n",
              "  <thead>\n",
              "    <tr style=\"text-align: right;\">\n",
              "      <th></th>\n",
              "      <th>movieId_x</th>\n",
              "      <th>movieId_y</th>\n",
              "      <th>count</th>\n",
              "    </tr>\n",
              "  </thead>\n",
              "  <tbody>\n",
              "    <tr>\n",
              "      <th>1574483</th>\n",
              "      <td>m318</td>\n",
              "      <td>m356</td>\n",
              "      <td>104</td>\n",
              "    </tr>\n",
              "    <tr>\n",
              "      <th>1416644</th>\n",
              "      <td>m296</td>\n",
              "      <td>m593</td>\n",
              "      <td>92</td>\n",
              "    </tr>\n",
              "    <tr>\n",
              "      <th>1416033</th>\n",
              "      <td>m296</td>\n",
              "      <td>m47</td>\n",
              "      <td>91</td>\n",
              "    </tr>\n",
              "    <tr>\n",
              "      <th>1187221</th>\n",
              "      <td>m260</td>\n",
              "      <td>m1196</td>\n",
              "      <td>91</td>\n",
              "    </tr>\n",
              "    <tr>\n",
              "      <th>1575263</th>\n",
              "      <td>m318</td>\n",
              "      <td>m527</td>\n",
              "      <td>90</td>\n",
              "    </tr>\n",
              "  </tbody>\n",
              "</table>\n",
              "</div>"
            ],
            "text/plain": [
              "        movieId_x movieId_y  count\n",
              "1574483      m318      m356    104\n",
              "1416644      m296      m593     92\n",
              "1416033      m296       m47     91\n",
              "1187221      m260     m1196     91\n",
              "1575263      m318      m527     90"
            ]
          },
          "metadata": {
            "tags": []
          },
          "execution_count": 23
        }
      ]
    },
    {
      "cell_type": "markdown",
      "metadata": {
        "id": "ThACu3UfzjgB"
      },
      "source": [
        "## Task 7. Display the titles of the (most popular) movie pairs from `pairswithcounts`?\n",
        "\n",
        "You will need to analyse this dataframe to complete questions in the quiz.\n",
        "\n",
        "Hint:\n",
        " - you will need to re-sort after a pd.merge()"
      ]
    },
    {
      "cell_type": "code",
      "metadata": {
        "id": "pQba0QiImJzU"
      },
      "source": [
        "\n",
        "temp = pairswithcounts.merge( right = movies_df[['movieId','title']], left_on= 'movieId_x', right_on='movieId')\n",
        "temp2 = temp.merge( right = movies_df[['movieId','title']], left_on= 'movieId_y', right_on='movieId') \n",
        "temp3 = temp2.loc[: , ~ temp2.columns.duplicated()]\n",
        "pairs_with_titles = temp3.sort_values(['count'], ascending=False)\n",
        "\n",
        "pairs_with_titles"
      ],
      "execution_count": null,
      "outputs": []
    },
    {
      "cell_type": "code",
      "metadata": {
        "colab": {
          "base_uri": "https://localhost:8080/",
          "height": 419
        },
        "id": "bkXptyKJMtTM",
        "outputId": "0c95f27d-3722-4a30-b8c9-1e17a962eaae"
      },
      "source": [
        "# add your solution here\n",
        "\n",
        "# merging title for movieId_x column and storing in temp\n",
        "temp = pairswithcounts.merge( right = movies_df[['movieId','title']], left_on= 'movieId_x', right_on='movieId')\n",
        "\n",
        "# merging title for movieId_y column and storing in temp2\n",
        "temp2 = temp.merge( right = movies_df[['movieId','title']], left_on= 'movieId_y', right_on='movieId')\n",
        "\n",
        "#dropping duplicate columns  \n",
        "temp3 = temp2.loc[: , ~ temp2.columns.duplicated()]\n",
        "\n",
        "#sorting according to most popular movie pairs\n",
        "pairs_with_titles = temp3.sort_values(['count'], ascending=False)\n",
        "\n",
        "pairs_with_titles"
      ],
      "execution_count": null,
      "outputs": [
        {
          "output_type": "execute_result",
          "data": {
            "text/html": [
              "<div>\n",
              "<style scoped>\n",
              "    .dataframe tbody tr th:only-of-type {\n",
              "        vertical-align: middle;\n",
              "    }\n",
              "\n",
              "    .dataframe tbody tr th {\n",
              "        vertical-align: top;\n",
              "    }\n",
              "\n",
              "    .dataframe thead th {\n",
              "        text-align: right;\n",
              "    }\n",
              "</style>\n",
              "<table border=\"1\" class=\"dataframe\">\n",
              "  <thead>\n",
              "    <tr style=\"text-align: right;\">\n",
              "      <th></th>\n",
              "      <th>movieId_x</th>\n",
              "      <th>movieId_y</th>\n",
              "      <th>count</th>\n",
              "      <th>title_x</th>\n",
              "      <th>title_y</th>\n",
              "    </tr>\n",
              "  </thead>\n",
              "  <tbody>\n",
              "    <tr>\n",
              "      <th>0</th>\n",
              "      <td>m318</td>\n",
              "      <td>m356</td>\n",
              "      <td>104</td>\n",
              "      <td>Shawshank Redemption, The (1994)</td>\n",
              "      <td>Forrest Gump (1994)</td>\n",
              "    </tr>\n",
              "    <tr>\n",
              "      <th>5993</th>\n",
              "      <td>m296</td>\n",
              "      <td>m593</td>\n",
              "      <td>92</td>\n",
              "      <td>Pulp Fiction (1994)</td>\n",
              "      <td>Silence of the Lambs, The (1991)</td>\n",
              "    </tr>\n",
              "    <tr>\n",
              "      <th>22257</th>\n",
              "      <td>m260</td>\n",
              "      <td>m1196</td>\n",
              "      <td>91</td>\n",
              "      <td>Star Wars: Episode IV - A New Hope (1977)</td>\n",
              "      <td>Star Wars: Episode V - The Empire Strikes Back...</td>\n",
              "    </tr>\n",
              "    <tr>\n",
              "      <th>17759</th>\n",
              "      <td>m296</td>\n",
              "      <td>m47</td>\n",
              "      <td>91</td>\n",
              "      <td>Pulp Fiction (1994)</td>\n",
              "      <td>Seven (a.k.a. Se7en) (1995)</td>\n",
              "    </tr>\n",
              "    <tr>\n",
              "      <th>2122</th>\n",
              "      <td>m318</td>\n",
              "      <td>m527</td>\n",
              "      <td>90</td>\n",
              "      <td>Shawshank Redemption, The (1994)</td>\n",
              "      <td>Schindler's List (1993)</td>\n",
              "    </tr>\n",
              "    <tr>\n",
              "      <th>...</th>\n",
              "      <td>...</td>\n",
              "      <td>...</td>\n",
              "      <td>...</td>\n",
              "      <td>...</td>\n",
              "      <td>...</td>\n",
              "    </tr>\n",
              "    <tr>\n",
              "      <th>1515989</th>\n",
              "      <td>m2077</td>\n",
              "      <td>m4865</td>\n",
              "      <td>1</td>\n",
              "      <td>Journey of Natty Gann, The (1985)</td>\n",
              "      <td>From Hell (2001)</td>\n",
              "    </tr>\n",
              "    <tr>\n",
              "      <th>1515990</th>\n",
              "      <td>m213</td>\n",
              "      <td>m4865</td>\n",
              "      <td>1</td>\n",
              "      <td>Burnt by the Sun (Utomlyonnye solntsem) (1994)</td>\n",
              "      <td>From Hell (2001)</td>\n",
              "    </tr>\n",
              "    <tr>\n",
              "      <th>1515991</th>\n",
              "      <td>m6985</td>\n",
              "      <td>m4865</td>\n",
              "      <td>1</td>\n",
              "      <td>Passion of Joan of Arc, The (Passion de Jeanne...</td>\n",
              "      <td>From Hell (2001)</td>\n",
              "    </tr>\n",
              "    <tr>\n",
              "      <th>1515992</th>\n",
              "      <td>m1785</td>\n",
              "      <td>m4865</td>\n",
              "      <td>1</td>\n",
              "      <td>King of New York (1990)</td>\n",
              "      <td>From Hell (2001)</td>\n",
              "    </tr>\n",
              "    <tr>\n",
              "      <th>3533035</th>\n",
              "      <td>m130490</td>\n",
              "      <td>m114265</td>\n",
              "      <td>1</td>\n",
              "      <td>Insurgent (2015)</td>\n",
              "      <td>Laggies (2014)</td>\n",
              "    </tr>\n",
              "  </tbody>\n",
              "</table>\n",
              "<p>3533036 rows × 5 columns</p>\n",
              "</div>"
            ],
            "text/plain": [
              "        movieId_x  ...                                            title_y\n",
              "0            m318  ...                                Forrest Gump (1994)\n",
              "5993         m296  ...                   Silence of the Lambs, The (1991)\n",
              "22257        m260  ...  Star Wars: Episode V - The Empire Strikes Back...\n",
              "17759        m296  ...                        Seven (a.k.a. Se7en) (1995)\n",
              "2122         m318  ...                            Schindler's List (1993)\n",
              "...           ...  ...                                                ...\n",
              "1515989     m2077  ...                                   From Hell (2001)\n",
              "1515990      m213  ...                                   From Hell (2001)\n",
              "1515991     m6985  ...                                   From Hell (2001)\n",
              "1515992     m1785  ...                                   From Hell (2001)\n",
              "3533035   m130490  ...                                     Laggies (2014)\n",
              "\n",
              "[3533036 rows x 5 columns]"
            ]
          },
          "metadata": {
            "tags": []
          },
          "execution_count": 24
        }
      ]
    },
    {
      "cell_type": "code",
      "metadata": {
        "colab": {
          "base_uri": "https://localhost:8080/",
          "height": 80
        },
        "id": "Wut3by2BP2lo",
        "outputId": "886a6dc7-bb8d-4214-a4e0-97bf583277f4"
      },
      "source": [
        "x = pairs_with_titles[pairs_with_titles['count'] == 74]\n",
        "x"
      ],
      "execution_count": null,
      "outputs": [
        {
          "output_type": "execute_result",
          "data": {
            "text/html": [
              "<div>\n",
              "<style scoped>\n",
              "    .dataframe tbody tr th:only-of-type {\n",
              "        vertical-align: middle;\n",
              "    }\n",
              "\n",
              "    .dataframe tbody tr th {\n",
              "        vertical-align: top;\n",
              "    }\n",
              "\n",
              "    .dataframe thead th {\n",
              "        text-align: right;\n",
              "    }\n",
              "</style>\n",
              "<table border=\"1\" class=\"dataframe\">\n",
              "  <thead>\n",
              "    <tr style=\"text-align: right;\">\n",
              "      <th></th>\n",
              "      <th>movieId_x</th>\n",
              "      <th>movieId_y</th>\n",
              "      <th>count</th>\n",
              "      <th>title_x</th>\n",
              "      <th>title_y</th>\n",
              "    </tr>\n",
              "  </thead>\n",
              "  <tbody>\n",
              "    <tr>\n",
              "      <th>78329</th>\n",
              "      <td>m858</td>\n",
              "      <td>m1221</td>\n",
              "      <td>74</td>\n",
              "      <td>Godfather, The (1972)</td>\n",
              "      <td>Godfather: Part II, The (1974)</td>\n",
              "    </tr>\n",
              "  </tbody>\n",
              "</table>\n",
              "</div>"
            ],
            "text/plain": [
              "      movieId_x  ...                         title_y\n",
              "78329      m858  ...  Godfather: Part II, The (1974)\n",
              "\n",
              "[1 rows x 5 columns]"
            ]
          },
          "metadata": {
            "tags": []
          },
          "execution_count": 25
        }
      ]
    },
    {
      "cell_type": "markdown",
      "metadata": {
        "id": "_0tOm--0ByR6"
      },
      "source": [
        "## Task 8. Calculate Lift (see Lecture 3) for all pairs in `pairwithcounts`.  \n",
        "\n",
        "Your target dataframe should have columns: \n",
        " - movieId_x\tmovieId_y\t\n",
        " - count - count of movies x & y occurring in a profile\t\n",
        " - ratingCount_x\tratingCount_y\t- how many times these movies appeared in total.\n",
        " - lift\t- your calculated lift.\n",
        " - title_x, title_y, genre_x and genre_y - metadata about the films, so you know if you have success. \n",
        "\n",
        "Hints: \n",
        " - You will need to join pairswithcounts with a dataframe containing rating counts of individual movies. A calculated column will be needed. See https://pandas.pydata.org/docs/getting_started/intro_tutorials/05_add_columns.html or https://stackoverflow.com/a/12377083/9989050 for hints on how to achieve that.\n",
        " - My solution had duplicated columns. I used this trick https://stackoverflow.com/a/40435354/9989050 to get rid of them.\n",
        " - It might be useful to [sort](https://pandas.pydata.org/pandas-docs/stable/reference/api/pandas.DataFrame.sort_values.html) your dataframe.\n",
        "\n",
        "Below I provide the highest lift movies for you to check your solution.\n"
      ]
    },
    {
      "cell_type": "code",
      "metadata": {
        "id": "dVkLdLlWIgx6",
        "colab": {
          "base_uri": "https://localhost:8080/",
          "height": 898
        },
        "outputId": "4d51b6a5-e119-433c-e475-82f8b19ad69c"
      },
      "source": [
        "#add your solution here\n",
        "\n",
        "#Counting each movie's rating and storing in 'rating count' column\n",
        "each_movie_rating_count = positives.groupby(['movieId'])['rating'].count().reset_index().rename(columns={\"movieId\" : \"movieId\", \"rating\" : \"ratingCount\"})\n",
        "\n",
        "#merging rating counts for both movie_x and movie_y column\n",
        "temp = pairs_with_titles.merge( right = each_movie_rating_count[['movieId', 'ratingCount']], left_on= 'movieId_x', right_on='movieId')\n",
        "pairs_with_ratings = temp.merge( right = each_movie_rating_count[['movieId', 'ratingCount']], left_on= 'movieId_y', right_on='movieId')\n",
        "\n",
        "#dropping duplicate columns\n",
        "pairs_with_ratings = pairs_with_ratings.loc[: , ~ pairs_with_ratings.columns.duplicated()]\n",
        "\n",
        "#Calculating lift\n",
        "pairs_with_ratings['ratingCount_x_ratingCount_y'] = pairs_with_ratings['ratingCount_x'] * pairs_with_ratings['ratingCount_y']\n",
        "pairs_with_ratings['lift'] = (pairs_with_ratings['count'] * len(ratings_df) )/ pairs_with_ratings['ratingCount_x_ratingCount_y']\n",
        "\n",
        "# merging genre for both movie_x and movie_y column\n",
        "temp = pairs_with_ratings.merge( right = movies_df[['movieId','genres']], left_on= 'movieId_x', right_on='movieId')\n",
        "temp2 = temp.merge( right = movies_df[['movieId','genres']], left_on= 'movieId_y', right_on='movieId')\n",
        "\n",
        "#dropping duplicate columns  \n",
        "pairs_with_lift = temp2.loc[: , ~ temp2.columns.duplicated()]\n",
        "\n",
        "#sorting based on lift column, highest value appearing first\n",
        "pairs_with_lift = pairs_with_lift.sort_values(['lift'], ascending=False)\n",
        "\n",
        "pairs_with_lift"
      ],
      "execution_count": null,
      "outputs": [
        {
          "output_type": "execute_result",
          "data": {
            "text/html": [
              "<div>\n",
              "<style scoped>\n",
              "    .dataframe tbody tr th:only-of-type {\n",
              "        vertical-align: middle;\n",
              "    }\n",
              "\n",
              "    .dataframe tbody tr th {\n",
              "        vertical-align: top;\n",
              "    }\n",
              "\n",
              "    .dataframe thead th {\n",
              "        text-align: right;\n",
              "    }\n",
              "</style>\n",
              "<table border=\"1\" class=\"dataframe\">\n",
              "  <thead>\n",
              "    <tr style=\"text-align: right;\">\n",
              "      <th></th>\n",
              "      <th>movieId_x</th>\n",
              "      <th>movieId_y</th>\n",
              "      <th>count</th>\n",
              "      <th>title_x</th>\n",
              "      <th>title_y</th>\n",
              "      <th>ratingCount_x</th>\n",
              "      <th>ratingCount_y</th>\n",
              "      <th>ratingCount_x_ratingCount_y</th>\n",
              "      <th>lift</th>\n",
              "      <th>genres_x</th>\n",
              "      <th>genres_y</th>\n",
              "    </tr>\n",
              "  </thead>\n",
              "  <tbody>\n",
              "    <tr>\n",
              "      <th>3533035</th>\n",
              "      <td>m43836</td>\n",
              "      <td>m1703</td>\n",
              "      <td>1</td>\n",
              "      <td>Pink Panther, The (2006)</td>\n",
              "      <td>For Richer or Poorer (1997)</td>\n",
              "      <td>1</td>\n",
              "      <td>1</td>\n",
              "      <td>1</td>\n",
              "      <td>100836.000000</td>\n",
              "      <td>Adventure|Comedy|Crime</td>\n",
              "      <td>Comedy</td>\n",
              "    </tr>\n",
              "    <tr>\n",
              "      <th>2696109</th>\n",
              "      <td>m121374</td>\n",
              "      <td>m160289</td>\n",
              "      <td>1</td>\n",
              "      <td>Bill Burr: Why Do I Do This? (2008)</td>\n",
              "      <td>O.J.: Made in America (2016)</td>\n",
              "      <td>1</td>\n",
              "      <td>1</td>\n",
              "      <td>1</td>\n",
              "      <td>100836.000000</td>\n",
              "      <td>Comedy</td>\n",
              "      <td>Documentary</td>\n",
              "    </tr>\n",
              "    <tr>\n",
              "      <th>2696111</th>\n",
              "      <td>m121372</td>\n",
              "      <td>m160289</td>\n",
              "      <td>1</td>\n",
              "      <td>Bill Burr: Let It Go (2010)</td>\n",
              "      <td>O.J.: Made in America (2016)</td>\n",
              "      <td>1</td>\n",
              "      <td>1</td>\n",
              "      <td>1</td>\n",
              "      <td>100836.000000</td>\n",
              "      <td>Comedy</td>\n",
              "      <td>Documentary</td>\n",
              "    </tr>\n",
              "    <tr>\n",
              "      <th>2696112</th>\n",
              "      <td>m119153</td>\n",
              "      <td>m160289</td>\n",
              "      <td>1</td>\n",
              "      <td>Bill Burr: You People Are All the Same (2012)</td>\n",
              "      <td>O.J.: Made in America (2016)</td>\n",
              "      <td>1</td>\n",
              "      <td>1</td>\n",
              "      <td>1</td>\n",
              "      <td>100836.000000</td>\n",
              "      <td>Comedy</td>\n",
              "      <td>Documentary</td>\n",
              "    </tr>\n",
              "    <tr>\n",
              "      <th>2696113</th>\n",
              "      <td>m118930</td>\n",
              "      <td>m160289</td>\n",
              "      <td>1</td>\n",
              "      <td>Bill Burr: I'm Sorry You Feel That Way (2014)</td>\n",
              "      <td>O.J.: Made in America (2016)</td>\n",
              "      <td>1</td>\n",
              "      <td>1</td>\n",
              "      <td>1</td>\n",
              "      <td>100836.000000</td>\n",
              "      <td>Comedy</td>\n",
              "      <td>Documentary</td>\n",
              "    </tr>\n",
              "    <tr>\n",
              "      <th>...</th>\n",
              "      <td>...</td>\n",
              "      <td>...</td>\n",
              "      <td>...</td>\n",
              "      <td>...</td>\n",
              "      <td>...</td>\n",
              "      <td>...</td>\n",
              "      <td>...</td>\n",
              "      <td>...</td>\n",
              "      <td>...</td>\n",
              "      <td>...</td>\n",
              "      <td>...</td>\n",
              "    </tr>\n",
              "    <tr>\n",
              "      <th>10931</th>\n",
              "      <td>m329</td>\n",
              "      <td>m296</td>\n",
              "      <td>1</td>\n",
              "      <td>Star Trek: Generations (1994)</td>\n",
              "      <td>Pulp Fiction (1994)</td>\n",
              "      <td>42</td>\n",
              "      <td>244</td>\n",
              "      <td>10248</td>\n",
              "      <td>9.839578</td>\n",
              "      <td>Adventure|Drama|Sci-Fi</td>\n",
              "      <td>Comedy|Crime|Drama|Thriller</td>\n",
              "    </tr>\n",
              "    <tr>\n",
              "      <th>1161359</th>\n",
              "      <td>m2959</td>\n",
              "      <td>m349</td>\n",
              "      <td>1</td>\n",
              "      <td>Fight Club (1999)</td>\n",
              "      <td>Clear and Present Danger (1994)</td>\n",
              "      <td>179</td>\n",
              "      <td>58</td>\n",
              "      <td>10382</td>\n",
              "      <td>9.712579</td>\n",
              "      <td>Action|Crime|Drama|Thriller</td>\n",
              "      <td>Action|Crime|Drama|Thriller</td>\n",
              "    </tr>\n",
              "    <tr>\n",
              "      <th>3114739</th>\n",
              "      <td>m80463</td>\n",
              "      <td>m318</td>\n",
              "      <td>1</td>\n",
              "      <td>Social Network, The (2010)</td>\n",
              "      <td>Shawshank Redemption, The (1994)</td>\n",
              "      <td>38</td>\n",
              "      <td>274</td>\n",
              "      <td>10412</td>\n",
              "      <td>9.684595</td>\n",
              "      <td>Drama</td>\n",
              "      <td>Crime|Drama</td>\n",
              "    </tr>\n",
              "    <tr>\n",
              "      <th>15603</th>\n",
              "      <td>m454</td>\n",
              "      <td>m2571</td>\n",
              "      <td>1</td>\n",
              "      <td>Firm, The (1993)</td>\n",
              "      <td>Matrix, The (1999)</td>\n",
              "      <td>48</td>\n",
              "      <td>222</td>\n",
              "      <td>10656</td>\n",
              "      <td>9.462838</td>\n",
              "      <td>Drama|Thriller</td>\n",
              "      <td>Action|Sci-Fi|Thriller</td>\n",
              "    </tr>\n",
              "    <tr>\n",
              "      <th>3114602</th>\n",
              "      <td>m253</td>\n",
              "      <td>m318</td>\n",
              "      <td>1</td>\n",
              "      <td>Interview with the Vampire: The Vampire Chroni...</td>\n",
              "      <td>Shawshank Redemption, The (1994)</td>\n",
              "      <td>52</td>\n",
              "      <td>274</td>\n",
              "      <td>14248</td>\n",
              "      <td>7.077204</td>\n",
              "      <td>Drama|Horror</td>\n",
              "      <td>Crime|Drama</td>\n",
              "    </tr>\n",
              "  </tbody>\n",
              "</table>\n",
              "<p>3533036 rows × 11 columns</p>\n",
              "</div>"
            ],
            "text/plain": [
              "        movieId_x  ...                     genres_y\n",
              "3533035    m43836  ...                       Comedy\n",
              "2696109   m121374  ...                  Documentary\n",
              "2696111   m121372  ...                  Documentary\n",
              "2696112   m119153  ...                  Documentary\n",
              "2696113   m118930  ...                  Documentary\n",
              "...           ...  ...                          ...\n",
              "10931        m329  ...  Comedy|Crime|Drama|Thriller\n",
              "1161359     m2959  ...  Action|Crime|Drama|Thriller\n",
              "3114739    m80463  ...                  Crime|Drama\n",
              "15603        m454  ...       Action|Sci-Fi|Thriller\n",
              "3114602      m253  ...                  Crime|Drama\n",
              "\n",
              "[3533036 rows x 11 columns]"
            ]
          },
          "metadata": {
            "tags": []
          },
          "execution_count": 26
        }
      ]
    },
    {
      "cell_type": "markdown",
      "metadata": {
        "id": "j86C6mX9JyE_"
      },
      "source": [
        "If your solution is correct, you will see the highest lift movie pairs. \n",
        "Lets check them - do the highest lift movies pairs make sense? e.g. \"Pink Panther, The (2006)\" (Adventure|Comedy|Crime) with\t\"For Richer or Poorer (1997)\" (Comedy). \n",
        "\n",
        "It should be clear that these lift pairs do not have high support. "
      ]
    },
    {
      "cell_type": "code",
      "metadata": {
        "colab": {
          "base_uri": "https://localhost:8080/",
          "height": 168
        },
        "id": "CA6MgOcxAYqI",
        "outputId": "2a9a1cd1-4d3d-4e34-e095-0aad72c2ef70"
      },
      "source": [
        "#movieId_x = m1475, movieId_y= m2024?\n",
        "result_8[(result_8['movieId_x'] == 'm1475') & (result_8['movieId_y'] == 'm2024')]"
      ],
      "execution_count": null,
      "outputs": [
        {
          "output_type": "execute_result",
          "data": {
            "text/html": [
              "<div>\n",
              "<style scoped>\n",
              "    .dataframe tbody tr th:only-of-type {\n",
              "        vertical-align: middle;\n",
              "    }\n",
              "\n",
              "    .dataframe tbody tr th {\n",
              "        vertical-align: top;\n",
              "    }\n",
              "\n",
              "    .dataframe thead th {\n",
              "        text-align: right;\n",
              "    }\n",
              "</style>\n",
              "<table border=\"1\" class=\"dataframe\">\n",
              "  <thead>\n",
              "    <tr style=\"text-align: right;\">\n",
              "      <th></th>\n",
              "      <th>movieId_x</th>\n",
              "      <th>movieId_y</th>\n",
              "      <th>count</th>\n",
              "      <th>title_x</th>\n",
              "      <th>title_y</th>\n",
              "      <th>ratingCount_x</th>\n",
              "      <th>ratingCount_y</th>\n",
              "      <th>ratingCount_x_ratingCount_y</th>\n",
              "      <th>lift</th>\n",
              "      <th>genres_x</th>\n",
              "      <th>genres_y</th>\n",
              "    </tr>\n",
              "  </thead>\n",
              "  <tbody>\n",
              "    <tr>\n",
              "      <th>3239968</th>\n",
              "      <td>m1475</td>\n",
              "      <td>m2024</td>\n",
              "      <td>1</td>\n",
              "      <td>Kama Sutra: A Tale of Love (1996)</td>\n",
              "      <td>Rapture, The (1991)</td>\n",
              "      <td>1</td>\n",
              "      <td>1</td>\n",
              "      <td>1</td>\n",
              "      <td>100836.0</td>\n",
              "      <td>Romance</td>\n",
              "      <td>Drama|Mystery</td>\n",
              "    </tr>\n",
              "  </tbody>\n",
              "</table>\n",
              "</div>"
            ],
            "text/plain": [
              "        movieId_x movieId_y  count  ...      lift genres_x       genres_y\n",
              "3239968     m1475     m2024      1  ...  100836.0  Romance  Drama|Mystery\n",
              "\n",
              "[1 rows x 11 columns]"
            ]
          },
          "metadata": {
            "tags": []
          },
          "execution_count": 27
        }
      ]
    },
    {
      "cell_type": "code",
      "metadata": {
        "colab": {
          "base_uri": "https://localhost:8080/"
        },
        "id": "5xqWOY__BkAv",
        "outputId": "86324418-6499-402e-9b37-4014db5b16f6"
      },
      "source": [
        "#movieId_x = m91500, movieId_y = m106487\n",
        "round(pairs_with_lift[(pairs_with_lift['movieId_x'] == 'm91500') & (pairs_with_lift['movieId_y'] == 'm106487')]['lift'] , 2)"
      ],
      "execution_count": null,
      "outputs": [
        {
          "output_type": "execute_result",
          "data": {
            "text/plain": [
              "1041321    3001.07\n",
              "Name: lift, dtype: float64"
            ]
          },
          "metadata": {
            "tags": []
          },
          "execution_count": 28
        }
      ]
    },
    {
      "cell_type": "markdown",
      "metadata": {
        "id": "syNMZ-gULEvI"
      },
      "source": [
        "## Task 9 - Support Thresholds"
      ]
    },
    {
      "cell_type": "markdown",
      "metadata": {
        "id": "Q8J3co2aDhfp"
      },
      "source": [
        "Removing movie pairs with support count $< 10$.\n",
        "\n",
        "I got the \"The Hunger Games (2012)\" paired with \"The Hunger Games: Mockingjay - Part 1 (2014)\" as the movie pair with the highest lift. This seems a good pairing! \n",
        "\n",
        "So in essence, we can use lift to identify highly co-occurring movie pairs without resorting to any collaborative notions.\n",
        "\n",
        "Keep this dataframe around - you will need it to answer the questions for Task 9 in the quiz."
      ]
    },
    {
      "cell_type": "code",
      "metadata": {
        "id": "Ol1oyIVYyGv9",
        "colab": {
          "base_uri": "https://localhost:8080/",
          "height": 898
        },
        "outputId": "8a636650-5d3d-45ac-bafe-559af933f2da"
      },
      "source": [
        "# add your solution here\n",
        "# removing pairs with count < 10\n",
        "support_threshlods_10 = pairs_with_lift[pairs_with_lift['count'] >= 10].sort_values(['lift'], ascending=False)\n",
        "support_threshlods_10"
      ],
      "execution_count": null,
      "outputs": [
        {
          "output_type": "execute_result",
          "data": {
            "text/html": [
              "<div>\n",
              "<style scoped>\n",
              "    .dataframe tbody tr th:only-of-type {\n",
              "        vertical-align: middle;\n",
              "    }\n",
              "\n",
              "    .dataframe tbody tr th {\n",
              "        vertical-align: top;\n",
              "    }\n",
              "\n",
              "    .dataframe thead th {\n",
              "        text-align: right;\n",
              "    }\n",
              "</style>\n",
              "<table border=\"1\" class=\"dataframe\">\n",
              "  <thead>\n",
              "    <tr style=\"text-align: right;\">\n",
              "      <th></th>\n",
              "      <th>movieId_x</th>\n",
              "      <th>movieId_y</th>\n",
              "      <th>count</th>\n",
              "      <th>title_x</th>\n",
              "      <th>title_y</th>\n",
              "      <th>ratingCount_x</th>\n",
              "      <th>ratingCount_y</th>\n",
              "      <th>ratingCount_x_ratingCount_y</th>\n",
              "      <th>lift</th>\n",
              "      <th>genres_x</th>\n",
              "      <th>genres_y</th>\n",
              "    </tr>\n",
              "  </thead>\n",
              "  <tbody>\n",
              "    <tr>\n",
              "      <th>1006647</th>\n",
              "      <td>m91500</td>\n",
              "      <td>m116823</td>\n",
              "      <td>11</td>\n",
              "      <td>The Hunger Games (2012)</td>\n",
              "      <td>The Hunger Games: Mockingjay - Part 1 (2014)</td>\n",
              "      <td>24</td>\n",
              "      <td>15</td>\n",
              "      <td>360</td>\n",
              "      <td>3081.100000</td>\n",
              "      <td>Action|Adventure|Drama|Sci-Fi|Thriller</td>\n",
              "      <td>Adventure|Sci-Fi|Thriller</td>\n",
              "    </tr>\n",
              "    <tr>\n",
              "      <th>1041321</th>\n",
              "      <td>m91500</td>\n",
              "      <td>m106487</td>\n",
              "      <td>10</td>\n",
              "      <td>The Hunger Games (2012)</td>\n",
              "      <td>The Hunger Games: Catching Fire (2013)</td>\n",
              "      <td>24</td>\n",
              "      <td>14</td>\n",
              "      <td>336</td>\n",
              "      <td>3001.071429</td>\n",
              "      <td>Action|Adventure|Drama|Sci-Fi|Thriller</td>\n",
              "      <td>Action|Adventure|Sci-Fi|IMAX</td>\n",
              "    </tr>\n",
              "    <tr>\n",
              "      <th>582789</th>\n",
              "      <td>m115713</td>\n",
              "      <td>m139385</td>\n",
              "      <td>10</td>\n",
              "      <td>Ex Machina (2015)</td>\n",
              "      <td>The Revenant (2015)</td>\n",
              "      <td>20</td>\n",
              "      <td>19</td>\n",
              "      <td>380</td>\n",
              "      <td>2653.578947</td>\n",
              "      <td>Drama|Sci-Fi|Thriller</td>\n",
              "      <td>Adventure|Drama</td>\n",
              "    </tr>\n",
              "    <tr>\n",
              "      <th>789976</th>\n",
              "      <td>m91658</td>\n",
              "      <td>m67255</td>\n",
              "      <td>10</td>\n",
              "      <td>Girl with the Dragon Tattoo, The (2011)</td>\n",
              "      <td>Girl with the Dragon Tattoo, The (Män som hata...</td>\n",
              "      <td>24</td>\n",
              "      <td>19</td>\n",
              "      <td>456</td>\n",
              "      <td>2211.315789</td>\n",
              "      <td>Drama|Thriller</td>\n",
              "      <td>Crime|Drama|Mystery|Thriller</td>\n",
              "    </tr>\n",
              "    <tr>\n",
              "      <th>869077</th>\n",
              "      <td>m34162</td>\n",
              "      <td>m8807</td>\n",
              "      <td>10</td>\n",
              "      <td>Wedding Crashers (2005)</td>\n",
              "      <td>Harold and Kumar Go to White Castle (2004)</td>\n",
              "      <td>25</td>\n",
              "      <td>19</td>\n",
              "      <td>475</td>\n",
              "      <td>2122.863158</td>\n",
              "      <td>Comedy|Romance</td>\n",
              "      <td>Adventure|Comedy</td>\n",
              "    </tr>\n",
              "    <tr>\n",
              "      <th>...</th>\n",
              "      <td>...</td>\n",
              "      <td>...</td>\n",
              "      <td>...</td>\n",
              "      <td>...</td>\n",
              "      <td>...</td>\n",
              "      <td>...</td>\n",
              "      <td>...</td>\n",
              "      <td>...</td>\n",
              "      <td>...</td>\n",
              "      <td>...</td>\n",
              "      <td>...</td>\n",
              "    </tr>\n",
              "    <tr>\n",
              "      <th>15371</th>\n",
              "      <td>m457</td>\n",
              "      <td>m2571</td>\n",
              "      <td>13</td>\n",
              "      <td>Fugitive, The (1993)</td>\n",
              "      <td>Matrix, The (1999)</td>\n",
              "      <td>137</td>\n",
              "      <td>222</td>\n",
              "      <td>30414</td>\n",
              "      <td>43.100809</td>\n",
              "      <td>Thriller</td>\n",
              "      <td>Action|Sci-Fi|Thriller</td>\n",
              "    </tr>\n",
              "    <tr>\n",
              "      <th>3114552</th>\n",
              "      <td>m1206</td>\n",
              "      <td>m318</td>\n",
              "      <td>10</td>\n",
              "      <td>Clockwork Orange, A (1971)</td>\n",
              "      <td>Shawshank Redemption, The (1994)</td>\n",
              "      <td>86</td>\n",
              "      <td>274</td>\n",
              "      <td>23564</td>\n",
              "      <td>42.792395</td>\n",
              "      <td>Crime|Drama|Sci-Fi|Thriller</td>\n",
              "      <td>Crime|Drama</td>\n",
              "    </tr>\n",
              "    <tr>\n",
              "      <th>3114541</th>\n",
              "      <td>m364</td>\n",
              "      <td>m318</td>\n",
              "      <td>13</td>\n",
              "      <td>Lion King, The (1994)</td>\n",
              "      <td>Shawshank Redemption, The (1994)</td>\n",
              "      <td>115</td>\n",
              "      <td>274</td>\n",
              "      <td>31510</td>\n",
              "      <td>41.601650</td>\n",
              "      <td>Adventure|Animation|Children|Drama|Musical|IMAX</td>\n",
              "      <td>Crime|Drama</td>\n",
              "    </tr>\n",
              "    <tr>\n",
              "      <th>10757</th>\n",
              "      <td>m457</td>\n",
              "      <td>m296</td>\n",
              "      <td>13</td>\n",
              "      <td>Fugitive, The (1993)</td>\n",
              "      <td>Pulp Fiction (1994)</td>\n",
              "      <td>137</td>\n",
              "      <td>244</td>\n",
              "      <td>33428</td>\n",
              "      <td>39.214670</td>\n",
              "      <td>Thriller</td>\n",
              "      <td>Comedy|Crime|Drama|Thriller</td>\n",
              "    </tr>\n",
              "    <tr>\n",
              "      <th>6050</th>\n",
              "      <td>m364</td>\n",
              "      <td>m593</td>\n",
              "      <td>10</td>\n",
              "      <td>Lion King, The (1994)</td>\n",
              "      <td>Silence of the Lambs, The (1991)</td>\n",
              "      <td>115</td>\n",
              "      <td>225</td>\n",
              "      <td>25875</td>\n",
              "      <td>38.970435</td>\n",
              "      <td>Adventure|Animation|Children|Drama|Musical|IMAX</td>\n",
              "      <td>Crime|Horror|Thriller</td>\n",
              "    </tr>\n",
              "  </tbody>\n",
              "</table>\n",
              "<p>29132 rows × 11 columns</p>\n",
              "</div>"
            ],
            "text/plain": [
              "        movieId_x  ...                      genres_y\n",
              "1006647    m91500  ...     Adventure|Sci-Fi|Thriller\n",
              "1041321    m91500  ...  Action|Adventure|Sci-Fi|IMAX\n",
              "582789    m115713  ...               Adventure|Drama\n",
              "789976     m91658  ...  Crime|Drama|Mystery|Thriller\n",
              "869077     m34162  ...              Adventure|Comedy\n",
              "...           ...  ...                           ...\n",
              "15371        m457  ...        Action|Sci-Fi|Thriller\n",
              "3114552     m1206  ...                   Crime|Drama\n",
              "3114541      m364  ...                   Crime|Drama\n",
              "10757        m457  ...   Comedy|Crime|Drama|Thriller\n",
              "6050         m364  ...         Crime|Horror|Thriller\n",
              "\n",
              "[29132 rows x 11 columns]"
            ]
          },
          "metadata": {
            "tags": []
          },
          "execution_count": 29
        }
      ]
    },
    {
      "cell_type": "code",
      "metadata": {
        "colab": {
          "base_uri": "https://localhost:8080/",
          "height": 745
        },
        "id": "CJPb25mTE-fz",
        "outputId": "30bdfbe2-3a60-4630-b366-0251943e3dde"
      },
      "source": [
        "final_result[(final_result['movieId_x'] == 'm110') | (final_result['movieId_y'] == 'm110')]"
      ],
      "execution_count": null,
      "outputs": [
        {
          "output_type": "execute_result",
          "data": {
            "text/html": [
              "<div>\n",
              "<style scoped>\n",
              "    .dataframe tbody tr th:only-of-type {\n",
              "        vertical-align: middle;\n",
              "    }\n",
              "\n",
              "    .dataframe tbody tr th {\n",
              "        vertical-align: top;\n",
              "    }\n",
              "\n",
              "    .dataframe thead th {\n",
              "        text-align: right;\n",
              "    }\n",
              "</style>\n",
              "<table border=\"1\" class=\"dataframe\">\n",
              "  <thead>\n",
              "    <tr style=\"text-align: right;\">\n",
              "      <th></th>\n",
              "      <th>movieId_x</th>\n",
              "      <th>movieId_y</th>\n",
              "      <th>count</th>\n",
              "      <th>title_x</th>\n",
              "      <th>title_y</th>\n",
              "      <th>ratingCount_x</th>\n",
              "      <th>ratingCount_y</th>\n",
              "      <th>ratingCount_x_ratingCount_y</th>\n",
              "      <th>lift</th>\n",
              "      <th>genres_x</th>\n",
              "      <th>genres_y</th>\n",
              "    </tr>\n",
              "  </thead>\n",
              "  <tbody>\n",
              "    <tr>\n",
              "      <th>1286160</th>\n",
              "      <td>m110</td>\n",
              "      <td>m2403</td>\n",
              "      <td>12</td>\n",
              "      <td>Braveheart (1995)</td>\n",
              "      <td>First Blood (Rambo: First Blood) (1982)</td>\n",
              "      <td>166</td>\n",
              "      <td>14</td>\n",
              "      <td>2324</td>\n",
              "      <td>520.667814</td>\n",
              "      <td>Action|Drama|War</td>\n",
              "      <td>Action|Adventure|Drama|Thriller</td>\n",
              "    </tr>\n",
              "    <tr>\n",
              "      <th>754396</th>\n",
              "      <td>m110</td>\n",
              "      <td>m151</td>\n",
              "      <td>18</td>\n",
              "      <td>Braveheart (1995)</td>\n",
              "      <td>Rob Roy (1995)</td>\n",
              "      <td>166</td>\n",
              "      <td>22</td>\n",
              "      <td>3652</td>\n",
              "      <td>497.001095</td>\n",
              "      <td>Action|Drama|War</td>\n",
              "      <td>Action|Drama|Romance|War</td>\n",
              "    </tr>\n",
              "    <tr>\n",
              "      <th>842860</th>\n",
              "      <td>m110</td>\n",
              "      <td>m5630</td>\n",
              "      <td>10</td>\n",
              "      <td>Braveheart (1995)</td>\n",
              "      <td>Red Dragon (2002)</td>\n",
              "      <td>166</td>\n",
              "      <td>15</td>\n",
              "      <td>2490</td>\n",
              "      <td>404.963855</td>\n",
              "      <td>Action|Drama|War</td>\n",
              "      <td>Crime|Mystery|Thriller</td>\n",
              "    </tr>\n",
              "    <tr>\n",
              "      <th>475464</th>\n",
              "      <td>m110</td>\n",
              "      <td>m266</td>\n",
              "      <td>20</td>\n",
              "      <td>Braveheart (1995)</td>\n",
              "      <td>Legends of the Fall (1994)</td>\n",
              "      <td>166</td>\n",
              "      <td>31</td>\n",
              "      <td>5146</td>\n",
              "      <td>391.900505</td>\n",
              "      <td>Action|Drama|War</td>\n",
              "      <td>Drama|Romance|War|Western</td>\n",
              "    </tr>\n",
              "    <tr>\n",
              "      <th>1171536</th>\n",
              "      <td>m110</td>\n",
              "      <td>m552</td>\n",
              "      <td>12</td>\n",
              "      <td>Braveheart (1995)</td>\n",
              "      <td>Three Musketeers, The (1993)</td>\n",
              "      <td>166</td>\n",
              "      <td>19</td>\n",
              "      <td>3154</td>\n",
              "      <td>383.649968</td>\n",
              "      <td>Action|Drama|War</td>\n",
              "      <td>Action|Adventure|Comedy|Romance</td>\n",
              "    </tr>\n",
              "    <tr>\n",
              "      <th>...</th>\n",
              "      <td>...</td>\n",
              "      <td>...</td>\n",
              "      <td>...</td>\n",
              "      <td>...</td>\n",
              "      <td>...</td>\n",
              "      <td>...</td>\n",
              "      <td>...</td>\n",
              "      <td>...</td>\n",
              "      <td>...</td>\n",
              "      <td>...</td>\n",
              "      <td>...</td>\n",
              "    </tr>\n",
              "    <tr>\n",
              "      <th>4202</th>\n",
              "      <td>m1136</td>\n",
              "      <td>m110</td>\n",
              "      <td>11</td>\n",
              "      <td>Monty Python and the Holy Grail (1975)</td>\n",
              "      <td>Braveheart (1995)</td>\n",
              "      <td>101</td>\n",
              "      <td>166</td>\n",
              "      <td>16766</td>\n",
              "      <td>66.157462</td>\n",
              "      <td>Adventure|Comedy|Fantasy</td>\n",
              "      <td>Action|Drama|War</td>\n",
              "    </tr>\n",
              "    <tr>\n",
              "      <th>4206</th>\n",
              "      <td>m4306</td>\n",
              "      <td>m110</td>\n",
              "      <td>12</td>\n",
              "      <td>Shrek (2001)</td>\n",
              "      <td>Braveheart (1995)</td>\n",
              "      <td>114</td>\n",
              "      <td>166</td>\n",
              "      <td>18924</td>\n",
              "      <td>63.941661</td>\n",
              "      <td>Adventure|Animation|Children|Comedy|Fantasy|Ro...</td>\n",
              "      <td>Action|Drama|War</td>\n",
              "    </tr>\n",
              "    <tr>\n",
              "      <th>4240</th>\n",
              "      <td>m1265</td>\n",
              "      <td>m110</td>\n",
              "      <td>10</td>\n",
              "      <td>Groundhog Day (1993)</td>\n",
              "      <td>Braveheart (1995)</td>\n",
              "      <td>97</td>\n",
              "      <td>166</td>\n",
              "      <td>16102</td>\n",
              "      <td>62.623277</td>\n",
              "      <td>Comedy|Fantasy|Romance</td>\n",
              "      <td>Action|Drama|War</td>\n",
              "    </tr>\n",
              "    <tr>\n",
              "      <th>4199</th>\n",
              "      <td>m1214</td>\n",
              "      <td>m110</td>\n",
              "      <td>10</td>\n",
              "      <td>Alien (1979)</td>\n",
              "      <td>Braveheart (1995)</td>\n",
              "      <td>110</td>\n",
              "      <td>166</td>\n",
              "      <td>18260</td>\n",
              "      <td>55.222344</td>\n",
              "      <td>Horror|Sci-Fi</td>\n",
              "      <td>Action|Drama|War</td>\n",
              "    </tr>\n",
              "    <tr>\n",
              "      <th>3114493</th>\n",
              "      <td>m110</td>\n",
              "      <td>m318</td>\n",
              "      <td>24</td>\n",
              "      <td>Braveheart (1995)</td>\n",
              "      <td>Shawshank Redemption, The (1994)</td>\n",
              "      <td>166</td>\n",
              "      <td>274</td>\n",
              "      <td>45484</td>\n",
              "      <td>53.206930</td>\n",
              "      <td>Action|Drama|War</td>\n",
              "      <td>Crime|Drama</td>\n",
              "    </tr>\n",
              "  </tbody>\n",
              "</table>\n",
              "<p>427 rows × 11 columns</p>\n",
              "</div>"
            ],
            "text/plain": [
              "        movieId_x  ...                         genres_y\n",
              "1286160      m110  ...  Action|Adventure|Drama|Thriller\n",
              "754396       m110  ...         Action|Drama|Romance|War\n",
              "842860       m110  ...           Crime|Mystery|Thriller\n",
              "475464       m110  ...        Drama|Romance|War|Western\n",
              "1171536      m110  ...  Action|Adventure|Comedy|Romance\n",
              "...           ...  ...                              ...\n",
              "4202        m1136  ...                 Action|Drama|War\n",
              "4206        m4306  ...                 Action|Drama|War\n",
              "4240        m1265  ...                 Action|Drama|War\n",
              "4199        m1214  ...                 Action|Drama|War\n",
              "3114493      m110  ...                      Crime|Drama\n",
              "\n",
              "[427 rows x 11 columns]"
            ]
          },
          "metadata": {
            "tags": []
          },
          "execution_count": 30
        }
      ]
    },
    {
      "cell_type": "code",
      "metadata": {
        "colab": {
          "base_uri": "https://localhost:8080/"
        },
        "id": "VsLiax3uFp1v",
        "outputId": "80a0a0d4-ff4f-478c-edf8-31ac0c6ae34d"
      },
      "source": [
        "round(final_result[(final_result['movieId_x'] == 'm364') & (final_result['movieId_y'] == 'm362')]['lift'] , 2)\n"
      ],
      "execution_count": null,
      "outputs": [
        {
          "output_type": "execute_result",
          "data": {
            "text/plain": [
              "939739    515.79\n",
              "Name: lift, dtype: float64"
            ]
          },
          "metadata": {
            "tags": []
          },
          "execution_count": 31
        }
      ]
    },
    {
      "cell_type": "markdown",
      "metadata": {
        "id": "xpuW7oZcFU_G"
      },
      "source": [
        "# End of Exercise\n",
        "\n",
        "As part of your submission, you should complete the Exercise 1 quiz on Moodle.\n",
        "You will need to upload your notebook, complete with the **results** of executing the code."
      ]
    },
    {
      "cell_type": "code",
      "metadata": {
        "id": "xvnT8PCgg29n"
      },
      "source": [
        ""
      ],
      "execution_count": null,
      "outputs": []
    }
  ]
}